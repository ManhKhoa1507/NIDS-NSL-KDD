{
 "cells": [
  {
   "cell_type": "code",
   "execution_count": 1,
   "metadata": {
    "colab": {},
    "colab_type": "code",
    "id": "Qx_dyZdlSXMK"
   },
   "outputs": [],
   "source": [
    "import pandas as pd\n",
    "import numpy as np\n",
    "import sys\n",
    "import sklearn\n",
    "import io\n",
    "import random\n",
    "import pickle"
   ]
  },
  {
   "cell_type": "markdown",
   "metadata": {},
   "source": [
    "**Add data**"
   ]
  },
  {
   "cell_type": "code",
   "execution_count": 2,
   "metadata": {
    "colab": {},
    "colab_type": "code",
    "id": "THyNO1v5Mzrx"
   },
   "outputs": [],
   "source": [
    "train_url = 'https://raw.githubusercontent.com/merteroglu/NSL-KDD-Network-Instrusion-Detection/master/NSL_KDD_Train.csv'\n",
    "test_url = 'https://raw.githubusercontent.com/merteroglu/NSL-KDD-Network-Instrusion-Detection/master/NSL_KDD_Test.csv'"
   ]
  },
  {
   "cell_type": "code",
   "execution_count": 3,
   "metadata": {
    "colab": {
     "base_uri": "https://localhost:8080/",
     "height": 51
    },
    "colab_type": "code",
    "id": "Utaaqng3NOY0",
    "outputId": "c479e10d-5553-4b8c-8ddf-d9dc0fd3a2a7"
   },
   "outputs": [
    {
     "name": "stdout",
     "output_type": "stream",
     "text": [
      "Dimensions of the Test set: (22544, 42)\n"
     ]
    }
   ],
   "source": [
    "col_names = [\"duration\",\"protocol_type\",\"service\",\"flag\",\"src_bytes\",\n",
    "    \"dst_bytes\",\"land\",\"wrong_fragment\",\"urgent\",\"hot\",\"num_failed_logins\",\n",
    "    \"logged_in\",\"num_compromised\",\"root_shell\",\"su_attempted\",\"num_root\",\n",
    "    \"num_file_creations\",\"num_shells\",\"num_access_files\",\"num_outbound_cmds\",\n",
    "    \"is_host_login\",\"is_guest_login\",\"count\",\"srv_count\",\"serror_rate\",\n",
    "    \"srv_serror_rate\",\"rerror_rate\",\"srv_rerror_rate\",\"same_srv_rate\",\n",
    "    \"diff_srv_rate\",\"srv_diff_host_rate\",\"dst_host_count\",\"dst_host_srv_count\",\n",
    "    \"dst_host_same_srv_rate\",\"dst_host_diff_srv_rate\",\"dst_host_same_src_port_rate\",\n",
    "    \"dst_host_srv_diff_host_rate\",\"dst_host_serror_rate\",\"dst_host_srv_serror_rate\",\n",
    "    \"dst_host_rerror_rate\",\"dst_host_srv_rerror_rate\",\"label\"]\n",
    "\n",
    "df = pd.read_csv(train_url,header=None, names = col_names)\n",
    "\n",
    "df_test = pd.read_csv(test_url, header=None, names = col_names)\n",
    "\n",
    "print('Dimensions of the Test set:',df_test.shape)"
   ]
  },
  {
   "cell_type": "code",
   "execution_count": 4,
   "metadata": {
    "colab": {
     "base_uri": "https://localhost:8080/",
     "height": 224
    },
    "colab_type": "code",
    "id": "_zKWRUDkWpiH",
    "outputId": "eed2117e-e451-4426-950f-0841bdf040e6"
   },
   "outputs": [
    {
     "name": "stdout",
     "output_type": "stream",
     "text": [
      "   duration protocol_type   service flag  src_bytes  dst_bytes  land  \\\n",
      "0         0           tcp  ftp_data   SF        491          0     0   \n",
      "1         0           udp     other   SF        146          0     0   \n",
      "2         0           tcp   private   S0          0          0     0   \n",
      "3         0           tcp      http   SF        232       8153     0   \n",
      "4         0           tcp      http   SF        199        420     0   \n",
      "\n",
      "   wrong_fragment  urgent  hot  ...  dst_host_srv_count  \\\n",
      "0               0       0    0  ...                  25   \n",
      "1               0       0    0  ...                   1   \n",
      "2               0       0    0  ...                  26   \n",
      "3               0       0    0  ...                 255   \n",
      "4               0       0    0  ...                 255   \n",
      "\n",
      "   dst_host_same_srv_rate  dst_host_diff_srv_rate  \\\n",
      "0                    0.17                    0.03   \n",
      "1                    0.00                    0.60   \n",
      "2                    0.10                    0.05   \n",
      "3                    1.00                    0.00   \n",
      "4                    1.00                    0.00   \n",
      "\n",
      "   dst_host_same_src_port_rate  dst_host_srv_diff_host_rate  \\\n",
      "0                         0.17                         0.00   \n",
      "1                         0.88                         0.00   \n",
      "2                         0.00                         0.00   \n",
      "3                         0.03                         0.04   \n",
      "4                         0.00                         0.00   \n",
      "\n",
      "   dst_host_serror_rate  dst_host_srv_serror_rate  dst_host_rerror_rate  \\\n",
      "0                  0.00                      0.00                  0.05   \n",
      "1                  0.00                      0.00                  0.00   \n",
      "2                  1.00                      1.00                  0.00   \n",
      "3                  0.03                      0.01                  0.00   \n",
      "4                  0.00                      0.00                  0.00   \n",
      "\n",
      "   dst_host_srv_rerror_rate    label  \n",
      "0                      0.00   normal  \n",
      "1                      0.00   normal  \n",
      "2                      0.00  neptune  \n",
      "3                      0.01   normal  \n",
      "4                      0.00   normal  \n",
      "\n",
      "[5 rows x 42 columns]\n"
     ]
    }
   ],
   "source": [
    "print(df.head(5))"
   ]
  },
  {
   "cell_type": "code",
   "execution_count": 5,
   "metadata": {
    "colab": {
     "base_uri": "https://localhost:8080/",
     "height": 1139
    },
    "colab_type": "code",
    "id": "BAa8_nBFWwxf",
    "outputId": "380fc920-3704-4671-f9f0-40ff93fe6a73"
   },
   "outputs": [
    {
     "name": "stdout",
     "output_type": "stream",
     "text": [
      "Label distribution Test set:\n",
      "normal             9711\n",
      "neptune            4657\n",
      "guess_passwd       1231\n",
      "mscan               996\n",
      "warezmaster         944\n",
      "apache2             737\n",
      "satan               735\n",
      "processtable        685\n",
      "smurf               665\n",
      "back                359\n",
      "snmpguess           331\n",
      "saint               319\n",
      "mailbomb            293\n",
      "snmpgetattack       178\n",
      "portsweep           157\n",
      "ipsweep             141\n",
      "httptunnel          133\n",
      "nmap                 73\n",
      "pod                  41\n",
      "buffer_overflow      20\n",
      "multihop             18\n",
      "named                17\n",
      "ps                   15\n",
      "sendmail             14\n",
      "rootkit              13\n",
      "xterm                13\n",
      "teardrop             12\n",
      "xlock                 9\n",
      "land                  7\n",
      "xsnoop                4\n",
      "ftp_write             3\n",
      "worm                  2\n",
      "loadmodule            2\n",
      "perl                  2\n",
      "sqlattack             2\n",
      "udpstorm              2\n",
      "phf                   2\n",
      "imap                  1\n",
      "Name: label, dtype: int64\n"
     ]
    }
   ],
   "source": [
    "print('Label distribution Test set:')\n",
    "print(df_test['label'].value_counts())"
   ]
  },
  {
   "cell_type": "markdown",
   "metadata": {
    "colab_type": "text",
    "id": "vFUPOfTWW7jF"
   },
   "source": [
    "**Step 1: Data preprocessing:**\n",
    "\n",
    "One-Hot-Encoding"
   ]
  },
  {
   "cell_type": "code",
   "execution_count": 6,
   "metadata": {
    "colab": {
     "base_uri": "https://localhost:8080/",
     "height": 238
    },
    "colab_type": "code",
    "id": "TyLnY-XCXVnk",
    "outputId": "7c1ed9f4-584c-4039-e4d4-429649c5c3dc",
    "scrolled": true
   },
   "outputs": [
    {
     "name": "stdout",
     "output_type": "stream",
     "text": [
      "Training set:\n",
      "Feature 'protocol_type' has 3 categories\n",
      "Feature 'service' has 70 categories\n",
      "Feature 'flag' has 11 categories\n",
      "Feature 'label' has 23 categories\n",
      "\n",
      "Distribution of categories in service:\n",
      "http        40338\n",
      "private     21853\n",
      "domain_u     9043\n",
      "smtp         7313\n",
      "ftp_data     6860\n",
      "Name: service, dtype: int64\n"
     ]
    }
   ],
   "source": [
    "print('Training set:')\n",
    "for col_name in df.columns:\n",
    "    if df[col_name].dtypes == 'object' :\n",
    "        unique_cat = len(df[col_name].unique())\n",
    "        print(\"Feature '{col_name}' has {unique_cat} categories\".format(col_name=col_name, unique_cat=unique_cat))\n",
    "\n",
    "print()\n",
    "print('Distribution of categories in service:')\n",
    "print(df['service'].value_counts().sort_values(ascending=False).head())"
   ]
  },
  {
   "cell_type": "code",
   "execution_count": 7,
   "metadata": {
    "colab": {
     "base_uri": "https://localhost:8080/",
     "height": 102
    },
    "colab_type": "code",
    "id": "WhKXNXlwXb5G",
    "outputId": "7d75d36f-24ba-426b-b6e1-fa0470eed0e1"
   },
   "outputs": [
    {
     "name": "stdout",
     "output_type": "stream",
     "text": [
      "Test set:\n",
      "Feature 'protocol_type' has 3 categories\n",
      "Feature 'service' has 64 categories\n",
      "Feature 'flag' has 11 categories\n",
      "Feature 'label' has 38 categories\n"
     ]
    }
   ],
   "source": [
    "# Test set\n",
    "print('Test set:')\n",
    "for col_name in df_test.columns:\n",
    "    if df_test[col_name].dtypes == 'object' :\n",
    "        unique_cat = len(df_test[col_name].unique())\n",
    "        print(\"Feature '{col_name}' has {unique_cat} categories\".format(col_name=col_name, unique_cat=unique_cat))\n"
   ]
  },
  {
   "cell_type": "markdown",
   "metadata": {
    "colab_type": "text",
    "id": "PZKviPW0XnzU"
   },
   "source": [
    "**LabelEncoder**\n",
    "\n",
    "**Insert categorical features into a 2D numpy array**"
   ]
  },
  {
   "cell_type": "code",
   "execution_count": 8,
   "metadata": {
    "colab": {
     "base_uri": "https://localhost:8080/",
     "height": 204
    },
    "colab_type": "code",
    "id": "SYmvn2qWXxs2",
    "outputId": "c2351e4b-76b7-43c9-8a5a-226d0d95f6e9"
   },
   "outputs": [
    {
     "data": {
      "text/html": [
       "<div>\n",
       "<style scoped>\n",
       "    .dataframe tbody tr th:only-of-type {\n",
       "        vertical-align: middle;\n",
       "    }\n",
       "\n",
       "    .dataframe tbody tr th {\n",
       "        vertical-align: top;\n",
       "    }\n",
       "\n",
       "    .dataframe thead th {\n",
       "        text-align: right;\n",
       "    }\n",
       "</style>\n",
       "<table border=\"1\" class=\"dataframe\">\n",
       "  <thead>\n",
       "    <tr style=\"text-align: right;\">\n",
       "      <th></th>\n",
       "      <th>protocol_type</th>\n",
       "      <th>service</th>\n",
       "      <th>flag</th>\n",
       "    </tr>\n",
       "  </thead>\n",
       "  <tbody>\n",
       "    <tr>\n",
       "      <th>0</th>\n",
       "      <td>tcp</td>\n",
       "      <td>ftp_data</td>\n",
       "      <td>SF</td>\n",
       "    </tr>\n",
       "    <tr>\n",
       "      <th>1</th>\n",
       "      <td>udp</td>\n",
       "      <td>other</td>\n",
       "      <td>SF</td>\n",
       "    </tr>\n",
       "    <tr>\n",
       "      <th>2</th>\n",
       "      <td>tcp</td>\n",
       "      <td>private</td>\n",
       "      <td>S0</td>\n",
       "    </tr>\n",
       "    <tr>\n",
       "      <th>3</th>\n",
       "      <td>tcp</td>\n",
       "      <td>http</td>\n",
       "      <td>SF</td>\n",
       "    </tr>\n",
       "    <tr>\n",
       "      <th>4</th>\n",
       "      <td>tcp</td>\n",
       "      <td>http</td>\n",
       "      <td>SF</td>\n",
       "    </tr>\n",
       "  </tbody>\n",
       "</table>\n",
       "</div>"
      ],
      "text/plain": [
       "  protocol_type   service flag\n",
       "0           tcp  ftp_data   SF\n",
       "1           udp     other   SF\n",
       "2           tcp   private   S0\n",
       "3           tcp      http   SF\n",
       "4           tcp      http   SF"
      ]
     },
     "execution_count": 8,
     "metadata": {},
     "output_type": "execute_result"
    }
   ],
   "source": [
    "from sklearn.preprocessing import LabelEncoder,OneHotEncoder\n",
    "categorical_columns=['protocol_type', 'service', 'flag']\n",
    "\n",
    "df_categorical_values = df[categorical_columns]\n",
    "testdf_categorical_values = df_test[categorical_columns]\n",
    "\n",
    "df_categorical_values.head()"
   ]
  },
  {
   "cell_type": "code",
   "execution_count": 9,
   "metadata": {
    "colab": {
     "base_uri": "https://localhost:8080/",
     "height": 88
    },
    "colab_type": "code",
    "id": "DNVa7mN9X1qV",
    "outputId": "98b0fcda-8a81-4ec4-bf77-df8c24d9c420"
   },
   "outputs": [
    {
     "name": "stdout",
     "output_type": "stream",
     "text": [
      "['Protocol_type_icmp', 'Protocol_type_tcp', 'Protocol_type_udp']\n",
      "['service_IRC', 'service_X11', 'service_Z39_50', 'service_aol', 'service_auth', 'service_bgp', 'service_courier', 'service_csnet_ns', 'service_ctf', 'service_daytime', 'service_discard', 'service_domain', 'service_domain_u', 'service_echo', 'service_eco_i', 'service_ecr_i', 'service_efs', 'service_exec', 'service_finger', 'service_ftp', 'service_ftp_data', 'service_gopher', 'service_harvest', 'service_hostnames', 'service_http', 'service_http_2784', 'service_http_443', 'service_http_8001', 'service_imap4', 'service_iso_tsap', 'service_klogin', 'service_kshell', 'service_ldap', 'service_link', 'service_login', 'service_mtp', 'service_name', 'service_netbios_dgm', 'service_netbios_ns', 'service_netbios_ssn', 'service_netstat', 'service_nnsp', 'service_nntp', 'service_ntp_u', 'service_other', 'service_pm_dump', 'service_pop_2', 'service_pop_3', 'service_printer', 'service_private', 'service_red_i', 'service_remote_job', 'service_rje', 'service_shell', 'service_smtp', 'service_sql_net', 'service_ssh', 'service_sunrpc', 'service_supdup', 'service_systat', 'service_telnet', 'service_tftp_u', 'service_tim_i', 'service_time', 'service_urh_i', 'service_urp_i', 'service_uucp', 'service_uucp_path', 'service_vmnet', 'service_whois']\n",
      "['flag_OTH', 'flag_REJ', 'flag_RSTO', 'flag_RSTOS0', 'flag_RSTR', 'flag_S0', 'flag_S1', 'flag_S2', 'flag_S3', 'flag_SF', 'flag_SH']\n"
     ]
    }
   ],
   "source": [
    "# protocol type\n",
    "unique_protocol=sorted(df.protocol_type.unique())\n",
    "string1 = 'Protocol_type_'\n",
    "unique_protocol2=[string1 + x for x in unique_protocol]\n",
    "print(unique_protocol2)\n",
    "\n",
    "# service\n",
    "unique_service=sorted(df.service.unique())\n",
    "string2 = 'service_'\n",
    "unique_service2=[string2 + x for x in unique_service]\n",
    "print(unique_service2)\n",
    "\n",
    "\n",
    "# flag\n",
    "unique_flag=sorted(df.flag.unique())\n",
    "string3 = 'flag_'\n",
    "unique_flag2=[string3 + x for x in unique_flag]\n",
    "print(unique_flag2)\n",
    "\n",
    "\n",
    "# put together\n",
    "dumcols=unique_protocol2 + unique_service2 + unique_flag2\n",
    "count =0 \n",
    "for i in dumcols : \n",
    "    count = count+1\n",
    "\n",
    "#do it for test set\n",
    "unique_service_test=sorted(df_test.service.unique())\n",
    "unique_service2_test=[string2 + x for x in unique_service_test]\n",
    "testdumcols=unique_protocol2 + unique_service2_test + unique_flag2\n"
   ]
  },
  {
   "cell_type": "markdown",
   "metadata": {
    "colab_type": "text",
    "id": "Nf-QhZyfX9Jd"
   },
   "source": [
    "**Transform categorical features into numbers using LabelEncoder()**"
   ]
  },
  {
   "cell_type": "code",
   "execution_count": 10,
   "metadata": {
    "colab": {
     "base_uri": "https://localhost:8080/",
     "height": 238
    },
    "colab_type": "code",
    "id": "ta0CsfRUX5Tg",
    "outputId": "b678107b-e3be-4cb5-a4b0-4494ea5e072b"
   },
   "outputs": [
    {
     "name": "stdout",
     "output_type": "stream",
     "text": [
      "  protocol_type   service flag\n",
      "0           tcp  ftp_data   SF\n",
      "1           udp     other   SF\n",
      "2           tcp   private   S0\n",
      "3           tcp      http   SF\n",
      "4           tcp      http   SF\n",
      "--------------------\n",
      "   protocol_type  service  flag\n",
      "0              1       20     9\n",
      "1              2       44     9\n",
      "2              1       49     5\n",
      "3              1       24     9\n",
      "4              1       24     9\n"
     ]
    }
   ],
   "source": [
    "df_categorical_values_enc=df_categorical_values.apply(LabelEncoder().fit_transform)\n",
    "\n",
    "print(df_categorical_values.head())\n",
    "print('--------------------')\n",
    "print(df_categorical_values_enc.head())\n",
    "\n",
    "# test set\n",
    "testdf_categorical_values_enc=testdf_categorical_values.apply(LabelEncoder().fit_transform)"
   ]
  },
  {
   "cell_type": "markdown",
   "metadata": {
    "colab_type": "text",
    "id": "iq_pnkScYDOi"
   },
   "source": [
    "**One-Hot-Encoding**"
   ]
  },
  {
   "cell_type": "code",
   "execution_count": 11,
   "metadata": {
    "colab": {
     "base_uri": "https://localhost:8080/",
     "height": 253
    },
    "colab_type": "code",
    "id": "MVBytj5dYGDu",
    "outputId": "f2c9a777-ea4e-4181-fcd6-099c9152cc8f"
   },
   "outputs": [
    {
     "data": {
      "text/html": [
       "<div>\n",
       "<style scoped>\n",
       "    .dataframe tbody tr th:only-of-type {\n",
       "        vertical-align: middle;\n",
       "    }\n",
       "\n",
       "    .dataframe tbody tr th {\n",
       "        vertical-align: top;\n",
       "    }\n",
       "\n",
       "    .dataframe thead th {\n",
       "        text-align: right;\n",
       "    }\n",
       "</style>\n",
       "<table border=\"1\" class=\"dataframe\">\n",
       "  <thead>\n",
       "    <tr style=\"text-align: right;\">\n",
       "      <th></th>\n",
       "      <th>Protocol_type_icmp</th>\n",
       "      <th>Protocol_type_tcp</th>\n",
       "      <th>Protocol_type_udp</th>\n",
       "      <th>service_IRC</th>\n",
       "      <th>service_X11</th>\n",
       "      <th>service_Z39_50</th>\n",
       "      <th>service_aol</th>\n",
       "      <th>service_auth</th>\n",
       "      <th>service_bgp</th>\n",
       "      <th>service_courier</th>\n",
       "      <th>...</th>\n",
       "      <th>flag_REJ</th>\n",
       "      <th>flag_RSTO</th>\n",
       "      <th>flag_RSTOS0</th>\n",
       "      <th>flag_RSTR</th>\n",
       "      <th>flag_S0</th>\n",
       "      <th>flag_S1</th>\n",
       "      <th>flag_S2</th>\n",
       "      <th>flag_S3</th>\n",
       "      <th>flag_SF</th>\n",
       "      <th>flag_SH</th>\n",
       "    </tr>\n",
       "  </thead>\n",
       "  <tbody>\n",
       "    <tr>\n",
       "      <th>0</th>\n",
       "      <td>0.0</td>\n",
       "      <td>1.0</td>\n",
       "      <td>0.0</td>\n",
       "      <td>0.0</td>\n",
       "      <td>0.0</td>\n",
       "      <td>0.0</td>\n",
       "      <td>0.0</td>\n",
       "      <td>0.0</td>\n",
       "      <td>0.0</td>\n",
       "      <td>0.0</td>\n",
       "      <td>...</td>\n",
       "      <td>0.0</td>\n",
       "      <td>0.0</td>\n",
       "      <td>0.0</td>\n",
       "      <td>0.0</td>\n",
       "      <td>0.0</td>\n",
       "      <td>0.0</td>\n",
       "      <td>0.0</td>\n",
       "      <td>0.0</td>\n",
       "      <td>1.0</td>\n",
       "      <td>0.0</td>\n",
       "    </tr>\n",
       "    <tr>\n",
       "      <th>1</th>\n",
       "      <td>0.0</td>\n",
       "      <td>0.0</td>\n",
       "      <td>1.0</td>\n",
       "      <td>0.0</td>\n",
       "      <td>0.0</td>\n",
       "      <td>0.0</td>\n",
       "      <td>0.0</td>\n",
       "      <td>0.0</td>\n",
       "      <td>0.0</td>\n",
       "      <td>0.0</td>\n",
       "      <td>...</td>\n",
       "      <td>0.0</td>\n",
       "      <td>0.0</td>\n",
       "      <td>0.0</td>\n",
       "      <td>0.0</td>\n",
       "      <td>0.0</td>\n",
       "      <td>0.0</td>\n",
       "      <td>0.0</td>\n",
       "      <td>0.0</td>\n",
       "      <td>1.0</td>\n",
       "      <td>0.0</td>\n",
       "    </tr>\n",
       "    <tr>\n",
       "      <th>2</th>\n",
       "      <td>0.0</td>\n",
       "      <td>1.0</td>\n",
       "      <td>0.0</td>\n",
       "      <td>0.0</td>\n",
       "      <td>0.0</td>\n",
       "      <td>0.0</td>\n",
       "      <td>0.0</td>\n",
       "      <td>0.0</td>\n",
       "      <td>0.0</td>\n",
       "      <td>0.0</td>\n",
       "      <td>...</td>\n",
       "      <td>0.0</td>\n",
       "      <td>0.0</td>\n",
       "      <td>0.0</td>\n",
       "      <td>0.0</td>\n",
       "      <td>1.0</td>\n",
       "      <td>0.0</td>\n",
       "      <td>0.0</td>\n",
       "      <td>0.0</td>\n",
       "      <td>0.0</td>\n",
       "      <td>0.0</td>\n",
       "    </tr>\n",
       "    <tr>\n",
       "      <th>3</th>\n",
       "      <td>0.0</td>\n",
       "      <td>1.0</td>\n",
       "      <td>0.0</td>\n",
       "      <td>0.0</td>\n",
       "      <td>0.0</td>\n",
       "      <td>0.0</td>\n",
       "      <td>0.0</td>\n",
       "      <td>0.0</td>\n",
       "      <td>0.0</td>\n",
       "      <td>0.0</td>\n",
       "      <td>...</td>\n",
       "      <td>0.0</td>\n",
       "      <td>0.0</td>\n",
       "      <td>0.0</td>\n",
       "      <td>0.0</td>\n",
       "      <td>0.0</td>\n",
       "      <td>0.0</td>\n",
       "      <td>0.0</td>\n",
       "      <td>0.0</td>\n",
       "      <td>1.0</td>\n",
       "      <td>0.0</td>\n",
       "    </tr>\n",
       "    <tr>\n",
       "      <th>4</th>\n",
       "      <td>0.0</td>\n",
       "      <td>1.0</td>\n",
       "      <td>0.0</td>\n",
       "      <td>0.0</td>\n",
       "      <td>0.0</td>\n",
       "      <td>0.0</td>\n",
       "      <td>0.0</td>\n",
       "      <td>0.0</td>\n",
       "      <td>0.0</td>\n",
       "      <td>0.0</td>\n",
       "      <td>...</td>\n",
       "      <td>0.0</td>\n",
       "      <td>0.0</td>\n",
       "      <td>0.0</td>\n",
       "      <td>0.0</td>\n",
       "      <td>0.0</td>\n",
       "      <td>0.0</td>\n",
       "      <td>0.0</td>\n",
       "      <td>0.0</td>\n",
       "      <td>1.0</td>\n",
       "      <td>0.0</td>\n",
       "    </tr>\n",
       "  </tbody>\n",
       "</table>\n",
       "<p>5 rows × 84 columns</p>\n",
       "</div>"
      ],
      "text/plain": [
       "   Protocol_type_icmp  Protocol_type_tcp  Protocol_type_udp  service_IRC  \\\n",
       "0                 0.0                1.0                0.0          0.0   \n",
       "1                 0.0                0.0                1.0          0.0   \n",
       "2                 0.0                1.0                0.0          0.0   \n",
       "3                 0.0                1.0                0.0          0.0   \n",
       "4                 0.0                1.0                0.0          0.0   \n",
       "\n",
       "   service_X11  service_Z39_50  service_aol  service_auth  service_bgp  \\\n",
       "0          0.0             0.0          0.0           0.0          0.0   \n",
       "1          0.0             0.0          0.0           0.0          0.0   \n",
       "2          0.0             0.0          0.0           0.0          0.0   \n",
       "3          0.0             0.0          0.0           0.0          0.0   \n",
       "4          0.0             0.0          0.0           0.0          0.0   \n",
       "\n",
       "   service_courier  ...  flag_REJ  flag_RSTO  flag_RSTOS0  flag_RSTR  flag_S0  \\\n",
       "0              0.0  ...       0.0        0.0          0.0        0.0      0.0   \n",
       "1              0.0  ...       0.0        0.0          0.0        0.0      0.0   \n",
       "2              0.0  ...       0.0        0.0          0.0        0.0      1.0   \n",
       "3              0.0  ...       0.0        0.0          0.0        0.0      0.0   \n",
       "4              0.0  ...       0.0        0.0          0.0        0.0      0.0   \n",
       "\n",
       "   flag_S1  flag_S2  flag_S3  flag_SF  flag_SH  \n",
       "0      0.0      0.0      0.0      1.0      0.0  \n",
       "1      0.0      0.0      0.0      1.0      0.0  \n",
       "2      0.0      0.0      0.0      0.0      0.0  \n",
       "3      0.0      0.0      0.0      1.0      0.0  \n",
       "4      0.0      0.0      0.0      1.0      0.0  \n",
       "\n",
       "[5 rows x 84 columns]"
      ]
     },
     "execution_count": 11,
     "metadata": {},
     "output_type": "execute_result"
    }
   ],
   "source": [
    "enc = OneHotEncoder(categories='auto')\n",
    "df_categorical_values_encenc = enc.fit_transform(df_categorical_values_enc)\n",
    "df_cat_data = pd.DataFrame(df_categorical_values_encenc.toarray(),columns=dumcols)\n",
    "\n",
    "\n",
    "# test set\n",
    "testdf_categorical_values_encenc = enc.fit_transform(testdf_categorical_values_enc)\n",
    "testdf_cat_data = pd.DataFrame(testdf_categorical_values_encenc.toarray(),columns=testdumcols)\n",
    "\n",
    "df_cat_data.head()"
   ]
  },
  {
   "cell_type": "markdown",
   "metadata": {
    "colab_type": "text",
    "id": "7D-ZvKY6bS-r"
   },
   "source": [
    "**Test set **"
   ]
  },
  {
   "cell_type": "code",
   "execution_count": 12,
   "metadata": {
    "colab": {
     "base_uri": "https://localhost:8080/",
     "height": 119
    },
    "colab_type": "code",
    "id": "HxTdPirkbW-V",
    "outputId": "fb55b332-5cfb-4bb6-e1f1-11fceb0029fd"
   },
   "outputs": [
    {
     "name": "stdout",
     "output_type": "stream",
     "text": [
      "['service_http_2784', 'service_red_i', 'service_aol', 'service_urh_i', 'service_harvest', 'service_http_8001']\n"
     ]
    }
   ],
   "source": [
    "trainservice=df['service'].tolist()\n",
    "testservice= df_test['service'].tolist()\n",
    "difference=list(set(trainservice) - set(testservice))\n",
    "string = 'service_'\n",
    "difference=[string + x for x in difference]\n",
    "print(difference)"
   ]
  },
  {
   "cell_type": "code",
   "execution_count": 13,
   "metadata": {
    "colab": {
     "base_uri": "https://localhost:8080/",
     "height": 51
    },
    "colab_type": "code",
    "id": "tpBVYECtcN02",
    "outputId": "f39dc7be-61a3-4987-cbae-db11747227ab"
   },
   "outputs": [
    {
     "name": "stdout",
     "output_type": "stream",
     "text": [
      "(125973, 84)\n",
      "(22544, 84)\n"
     ]
    }
   ],
   "source": [
    "for col in difference:\n",
    "    testdf_cat_data[col] = 0\n",
    "\n",
    "print(df_cat_data.shape)    \n",
    "print(testdf_cat_data.shape)"
   ]
  },
  {
   "cell_type": "markdown",
   "metadata": {
    "colab_type": "text",
    "id": "4Vsl_YcrcSd8"
   },
   "source": [
    "**New numeric columns are added to the main dataframe**"
   ]
  },
  {
   "cell_type": "code",
   "execution_count": 14,
   "metadata": {
    "colab": {
     "base_uri": "https://localhost:8080/",
     "height": 51
    },
    "colab_type": "code",
    "id": "KOXgIdAZcVAF",
    "outputId": "daa03d97-1f70-435d-91d7-18af484becbf"
   },
   "outputs": [
    {
     "name": "stdout",
     "output_type": "stream",
     "text": [
      "(125973, 123)\n",
      "(22544, 123)\n"
     ]
    }
   ],
   "source": [
    "newdf=df.join(df_cat_data)\n",
    "newdf.drop('flag', axis=1, inplace=True)\n",
    "newdf.drop('protocol_type', axis=1, inplace=True)\n",
    "newdf.drop('service', axis=1, inplace=True)\n",
    "\n",
    "# test data\n",
    "newdf_test=df_test.join(testdf_cat_data)\n",
    "newdf_test.drop('flag', axis=1, inplace=True)\n",
    "newdf_test.drop('protocol_type', axis=1, inplace=True)\n",
    "newdf_test.drop('service', axis=1, inplace=True)\n",
    "\n",
    "print(newdf.shape)\n",
    "print(newdf_test.shape)"
   ]
  },
  {
   "cell_type": "markdown",
   "metadata": {
    "colab_type": "text",
    "id": "dZsTN_Xoca_b"
   },
   "source": [
    " Dataset 0=Normal, 1=DoS, 2=Probe, 3=R2L, 4=U2R.\n",
    " \n",
    " DoS : \n",
    " \n",
    " Probe : \n",
    " \n",
    " R2L :\n",
    " \n",
    " U2R :"
   ]
  },
  {
   "cell_type": "code",
   "execution_count": 15,
   "metadata": {
    "colab": {},
    "colab_type": "code",
    "id": "706-Qqhycc_-"
   },
   "outputs": [],
   "source": [
    "labeldf=newdf['label']\n",
    "labeldf_test=newdf_test['label']\n",
    "\n",
    "\n",
    "# change the label column\n",
    "newlabeldf=labeldf.replace({ 'normal' : 0, 'neptune' : 1 ,'back': 1, 'land': 1, 'pod': 1, 'smurf': 1, 'teardrop': 1,'mailbomb': 1, 'apache2': 1, 'processtable': 1, 'udpstorm': 1, 'worm': 1,\n",
    "                           'ipsweep' : 2,'nmap' : 2,'portsweep' : 2,'satan' : 2,'mscan' : 2,'saint' : 2\n",
    "                           ,'ftp_write': 3,'guess_passwd': 3,'imap': 3,'multihop': 3,'phf': 3,'spy': 3,'warezclient': 3,'warezmaster': 3,'sendmail': 3,'named': 3,'snmpgetattack': 3,'snmpguess': 3,'xlock': 3,'xsnoop': 3,'httptunnel': 3,\n",
    "                           'buffer_overflow': 4,'loadmodule': 4,'perl': 4,'rootkit': 4,'ps': 4,'sqlattack': 4,'xterm': 4})\n",
    "newlabeldf_test=labeldf_test.replace({ 'normal' : 0, 'neptune' : 1 ,'back': 1, 'land': 1, 'pod': 1, 'smurf': 1, 'teardrop': 1,'mailbomb': 1, 'apache2': 1, 'processtable': 1, 'udpstorm': 1, 'worm': 1,\n",
    "                           'ipsweep' : 2,'nmap' : 2,'portsweep' : 2,'satan' : 2,'mscan' : 2,'saint' : 2\n",
    "                           ,'ftp_write': 3,'guess_passwd': 3,'imap': 3,'multihop': 3,'phf': 3,'spy': 3,'warezclient': 3,'warezmaster': 3,'sendmail': 3,'named': 3,'snmpgetattack': 3,'snmpguess': 3,'xlock': 3,'xsnoop': 3,'httptunnel': 3,\n",
    "                           'buffer_overflow': 4,'loadmodule': 4,'perl': 4,'rootkit': 4,'ps': 4,'sqlattack': 4,'xterm': 4})\n",
    "\n",
    "\n",
    "\n",
    "# put the new label column back\n",
    "newdf['label'] = newlabeldf\n",
    "newdf_test['label'] = newlabeldf_test"
   ]
  },
  {
   "cell_type": "code",
   "execution_count": 16,
   "metadata": {
    "colab": {
     "base_uri": "https://localhost:8080/",
     "height": 204
    },
    "colab_type": "code",
    "id": "Bu7S66qJcw56",
    "outputId": "ca5533bc-1d89-4169-b777-de8db54a1140"
   },
   "outputs": [
    {
     "name": "stdout",
     "output_type": "stream",
     "text": [
      "        duration  src_bytes  dst_bytes  land  wrong_fragment  urgent  hot  \\\n",
      "0              0        491          0     0               0       0    0   \n",
      "1              0        146          0     0               0       0    0   \n",
      "2              0          0          0     0               0       0    0   \n",
      "3              0        232       8153     0               0       0    0   \n",
      "4              0        199        420     0               0       0    0   \n",
      "...          ...        ...        ...   ...             ...     ...  ...   \n",
      "125968         0          0          0     0               0       0    0   \n",
      "125969         8        105        145     0               0       0    0   \n",
      "125970         0       2231        384     0               0       0    0   \n",
      "125971         0          0          0     0               0       0    0   \n",
      "125972         0        151          0     0               0       0    0   \n",
      "\n",
      "        num_failed_logins  logged_in  num_compromised  ...  flag_REJ  \\\n",
      "0                       0          0                0  ...       0.0   \n",
      "1                       0          0                0  ...       0.0   \n",
      "2                       0          0                0  ...       0.0   \n",
      "3                       0          1                0  ...       0.0   \n",
      "4                       0          1                0  ...       0.0   \n",
      "...                   ...        ...              ...  ...       ...   \n",
      "125968                  0          0                0  ...       0.0   \n",
      "125969                  0          0                0  ...       0.0   \n",
      "125970                  0          1                0  ...       0.0   \n",
      "125971                  0          0                0  ...       0.0   \n",
      "125972                  0          1                0  ...       0.0   \n",
      "\n",
      "        flag_RSTO  flag_RSTOS0  flag_RSTR  flag_S0  flag_S1  flag_S2  flag_S3  \\\n",
      "0             0.0          0.0        0.0      0.0      0.0      0.0      0.0   \n",
      "1             0.0          0.0        0.0      0.0      0.0      0.0      0.0   \n",
      "2             0.0          0.0        0.0      1.0      0.0      0.0      0.0   \n",
      "3             0.0          0.0        0.0      0.0      0.0      0.0      0.0   \n",
      "4             0.0          0.0        0.0      0.0      0.0      0.0      0.0   \n",
      "...           ...          ...        ...      ...      ...      ...      ...   \n",
      "125968        0.0          0.0        0.0      1.0      0.0      0.0      0.0   \n",
      "125969        0.0          0.0        0.0      0.0      0.0      0.0      0.0   \n",
      "125970        0.0          0.0        0.0      0.0      0.0      0.0      0.0   \n",
      "125971        0.0          0.0        0.0      1.0      0.0      0.0      0.0   \n",
      "125972        0.0          0.0        0.0      0.0      0.0      0.0      0.0   \n",
      "\n",
      "        flag_SF  flag_SH  \n",
      "0           1.0      0.0  \n",
      "1           1.0      0.0  \n",
      "2           0.0      0.0  \n",
      "3           1.0      0.0  \n",
      "4           1.0      0.0  \n",
      "...         ...      ...  \n",
      "125968      0.0      0.0  \n",
      "125969      1.0      0.0  \n",
      "125970      1.0      0.0  \n",
      "125971      0.0      0.0  \n",
      "125972      1.0      0.0  \n",
      "\n",
      "[113270 rows x 123 columns]\n",
      "Train:\n",
      "Dimensions of DoS: (113270, 123)\n",
      "Dimensions of Probe: (78999, 123)\n",
      "Dimensions of R2L: (68338, 123)\n",
      "Dimensions of U2R: (67395, 123)\n",
      "\n",
      "Test:\n",
      "Dimensions of DoS: (17171, 123)\n",
      "Dimensions of Probe: (12132, 123)\n",
      "Dimensions of R2L: (12596, 123)\n",
      "Dimensions of U2R: (9778, 123)\n"
     ]
    }
   ],
   "source": [
    "to_drop_DoS = [0,1]\n",
    "to_drop_Probe = [0,2]\n",
    "to_drop_R2L = [0,3]\n",
    "to_drop_U2R = [0,4]\n",
    "\n",
    "DoS_df=newdf[newdf['label'].isin(to_drop_DoS)];\n",
    "Probe_df=newdf[newdf['label'].isin(to_drop_Probe)];\n",
    "R2L_df=newdf[newdf['label'].isin(to_drop_R2L)];\n",
    "U2R_df=newdf[newdf['label'].isin(to_drop_U2R)];\n",
    "print(DoS_df)\n",
    "\n",
    "#test\n",
    "DoS_df_test=newdf_test[newdf_test['label'].isin(to_drop_DoS)];\n",
    "Probe_df_test=newdf_test[newdf_test['label'].isin(to_drop_Probe)];\n",
    "R2L_df_test=newdf_test[newdf_test['label'].isin(to_drop_R2L)];\n",
    "U2R_df_test=newdf_test[newdf_test['label'].isin(to_drop_U2R)];\n",
    "\n",
    "print('Train:')\n",
    "print('Dimensions of DoS:' ,DoS_df.shape)\n",
    "print('Dimensions of Probe:' ,Probe_df.shape)\n",
    "print('Dimensions of R2L:' ,R2L_df.shape)\n",
    "print('Dimensions of U2R:' ,U2R_df.shape)\n",
    "print()\n",
    "print('Test:')\n",
    "print('Dimensions of DoS:' ,DoS_df_test.shape)\n",
    "print('Dimensions of Probe:' ,Probe_df_test.shape)\n",
    "print('Dimensions of R2L:' ,R2L_df_test.shape)\n",
    "print('Dimensions of U2R:' ,U2R_df_test.shape)"
   ]
  },
  {
   "cell_type": "markdown",
   "metadata": {
    "colab_type": "text",
    "id": "Dvi-Oglzc5Bs"
   },
   "source": [
    "**Step 2: Feature Scaling**"
   ]
  },
  {
   "cell_type": "code",
   "execution_count": 17,
   "metadata": {
    "colab": {},
    "colab_type": "code",
    "id": "-VeQhD09c6qT"
   },
   "outputs": [
    {
     "name": "stdout",
     "output_type": "stream",
     "text": [
      "duration\n",
      "src_bytes\n",
      "dst_bytes\n",
      "land\n",
      "wrong_fragment\n",
      "urgent\n",
      "hot\n",
      "num_failed_logins\n",
      "logged_in\n",
      "num_compromised\n",
      "root_shell\n",
      "su_attempted\n",
      "num_root\n",
      "num_file_creations\n",
      "num_shells\n",
      "num_access_files\n",
      "num_outbound_cmds\n",
      "is_host_login\n",
      "is_guest_login\n",
      "count\n",
      "srv_count\n",
      "serror_rate\n",
      "srv_serror_rate\n",
      "rerror_rate\n",
      "srv_rerror_rate\n",
      "same_srv_rate\n",
      "diff_srv_rate\n",
      "srv_diff_host_rate\n",
      "dst_host_count\n",
      "dst_host_srv_count\n",
      "dst_host_same_srv_rate\n",
      "dst_host_diff_srv_rate\n",
      "dst_host_same_src_port_rate\n",
      "dst_host_srv_diff_host_rate\n",
      "dst_host_serror_rate\n",
      "dst_host_srv_serror_rate\n",
      "dst_host_rerror_rate\n",
      "dst_host_srv_rerror_rate\n",
      "Protocol_type_icmp\n",
      "Protocol_type_tcp\n",
      "Protocol_type_udp\n",
      "service_IRC\n",
      "service_X11\n",
      "service_Z39_50\n",
      "service_auth\n",
      "service_bgp\n",
      "service_courier\n",
      "service_csnet_ns\n",
      "service_ctf\n",
      "service_daytime\n",
      "service_discard\n",
      "service_domain\n",
      "service_domain_u\n",
      "service_echo\n",
      "service_eco_i\n",
      "service_ecr_i\n",
      "service_efs\n",
      "service_exec\n",
      "service_finger\n",
      "service_ftp\n",
      "service_ftp_data\n",
      "service_gopher\n",
      "service_hostnames\n",
      "service_http\n",
      "service_http_443\n",
      "service_imap4\n",
      "service_iso_tsap\n",
      "service_klogin\n",
      "service_kshell\n",
      "service_ldap\n",
      "service_link\n",
      "service_login\n",
      "service_mtp\n",
      "service_name\n",
      "service_netbios_dgm\n",
      "service_netbios_ns\n",
      "service_netbios_ssn\n",
      "service_netstat\n",
      "service_nnsp\n",
      "service_nntp\n",
      "service_ntp_u\n",
      "service_other\n",
      "service_pm_dump\n",
      "service_pop_2\n",
      "service_pop_3\n",
      "service_printer\n",
      "service_private\n",
      "service_remote_job\n",
      "service_rje\n",
      "service_shell\n",
      "service_smtp\n",
      "service_sql_net\n",
      "service_ssh\n",
      "service_sunrpc\n",
      "service_supdup\n",
      "service_systat\n",
      "service_telnet\n",
      "service_tftp_u\n",
      "service_tim_i\n",
      "service_time\n",
      "service_urp_i\n",
      "service_uucp\n",
      "service_uucp_path\n",
      "service_vmnet\n",
      "service_whois\n",
      "flag_OTH\n",
      "flag_REJ\n",
      "flag_RSTO\n",
      "flag_RSTOS0\n",
      "flag_RSTR\n",
      "flag_S0\n",
      "flag_S1\n",
      "flag_S2\n",
      "flag_S3\n",
      "flag_SF\n",
      "flag_SH\n",
      "service_http_2784\n",
      "service_red_i\n",
      "service_aol\n",
      "service_urh_i\n",
      "service_harvest\n",
      "service_http_8001\n",
      "122\n"
     ]
    }
   ],
   "source": [
    "# Split dataframes into X & Y\n",
    "\n",
    "X_DoS = DoS_df.drop('label',axis=1)\n",
    "Y_DoS = DoS_df.label\n",
    "\n",
    "X_Probe = Probe_df.drop('label',axis=1)\n",
    "Y_Probe = Probe_df.label\n",
    "\n",
    "X_R2L = R2L_df.drop('label',axis=1)\n",
    "Y_R2L = R2L_df.label\n",
    "\n",
    "X_U2R = U2R_df.drop('label',axis=1)\n",
    "Y_U2R = U2R_df.label\n",
    "\n",
    "# test set\n",
    "X_DoS_test = DoS_df_test.drop('label',axis=1)\n",
    "Y_DoS_test = DoS_df_test.label\n",
    "\n",
    "count = 0\n",
    "for i in X_DoS_test:\n",
    "    count = count + 1\n",
    "    print(i)\n",
    "print(count)\n",
    "\n",
    "X_Probe_test = Probe_df_test.drop('label',axis=1)\n",
    "Y_Probe_test = Probe_df_test.label\n",
    "\n",
    "X_R2L_test = R2L_df_test.drop('label',axis=1)\n",
    "Y_R2L_test = R2L_df_test.label\n",
    "\n",
    "X_U2R_test = U2R_df_test.drop('label',axis=1)\n",
    "Y_U2R_test = U2R_df_test.label\n"
   ]
  },
  {
   "cell_type": "markdown",
   "metadata": {
    "colab_type": "text",
    "id": "yl7gee3KdAb5"
   },
   "source": [
    "**Since the column names will be deleted at this stage, we save the column names for later use.**"
   ]
  },
  {
   "cell_type": "code",
   "execution_count": 18,
   "metadata": {
    "colab": {},
    "colab_type": "code",
    "id": "2nWS5oukdFS6"
   },
   "outputs": [],
   "source": [
    "colNames=list(X_DoS)\n",
    "colNames_test=list(X_DoS_test)"
   ]
  },
  {
   "cell_type": "code",
   "execution_count": 19,
   "metadata": {
    "colab": {},
    "colab_type": "code",
    "id": "FEBafDjodRcT"
   },
   "outputs": [],
   "source": [
    "from sklearn import preprocessing\n",
    "\n",
    "scaler1 = preprocessing.StandardScaler().fit(X_DoS)\n",
    "X_DoS=scaler1.transform(X_DoS) \n",
    "\n",
    "scaler2 = preprocessing.StandardScaler().fit(X_Probe)\n",
    "X_Probe=scaler2.transform(X_Probe)\n",
    "\n",
    "scaler3 = preprocessing.StandardScaler().fit(X_R2L)\n",
    "X_R2L=scaler3.transform(X_R2L)\n",
    "\n",
    "scaler4 = preprocessing.StandardScaler().fit(X_U2R)\n",
    "X_U2R=scaler4.transform(X_U2R) \n",
    "\n",
    "# test data\n",
    "scaler5 = preprocessing.StandardScaler().fit(X_DoS_test)\n",
    "X_DoS_test=scaler5.transform(X_DoS_test) \n",
    "\n",
    "scaler6 = preprocessing.StandardScaler().fit(X_Probe_test)\n",
    "X_Probe_test=scaler6.transform(X_Probe_test) \n",
    "\n",
    "scaler7 = preprocessing.StandardScaler().fit(X_R2L_test)\n",
    "X_R2L_test=scaler7.transform(X_R2L_test) \n",
    "\n",
    "scaler8 = preprocessing.StandardScaler().fit(X_U2R_test)\n",
    "X_U2R_test=scaler8.transform(X_U2R_test)"
   ]
  },
  {
   "cell_type": "markdown",
   "metadata": {
    "colab_type": "text",
    "id": "pc2v2hb9dc8s"
   },
   "source": [
    "**Step 3: Feature Selection:**\n",
    "\n",
    "---"
   ]
  },
  {
   "cell_type": "markdown",
   "metadata": {
    "colab_type": "text",
    "id": "k04dKGOWepgB"
   },
   "source": [
    "**Recursive Feature Elimination (RFE)**"
   ]
  },
  {
   "cell_type": "markdown",
   "metadata": {
    "colab_type": "text",
    "id": "oR4xlXjlM2_M"
   },
   "source": [
    "# Random Forest"
   ]
  },
  {
   "cell_type": "code",
   "execution_count": 20,
   "metadata": {
    "colab": {},
    "colab_type": "code",
    "id": "paIjq2cci39w"
   },
   "outputs": [],
   "source": [
    "from sklearn.feature_selection import RFE\n",
    "from sklearn.ensemble import RandomForestClassifier\n",
    "\n",
    "clf = RandomForestClassifier(n_estimators=10,n_jobs=2)\n",
    "rfe = RFE(estimator=clf, n_features_to_select=13, step=1)\n",
    "\n",
    "rfe.fit(X_DoS, Y_DoS.astype(int))\n",
    "X_rfeDoS=rfe.transform(X_DoS)\n",
    "true=rfe.support_\n",
    "rfecolindex_DoS=[i for i, x in enumerate(true) if x]\n",
    "rfecolname_DoS=list(colNames[i] for i in rfecolindex_DoS)"
   ]
  },
  {
   "cell_type": "code",
   "execution_count": 21,
   "metadata": {
    "colab": {},
    "colab_type": "code",
    "id": "WLTTTvNIjcSc"
   },
   "outputs": [],
   "source": [
    "rfe.fit(X_Probe, Y_Probe.astype(int))\n",
    "X_rfeProbe=rfe.transform(X_Probe)\n",
    "true=rfe.support_\n",
    "rfecolindex_Probe=[i for i, x in enumerate(true) if x]\n",
    "rfecolname_Probe=list(colNames[i] for i in rfecolindex_Probe)"
   ]
  },
  {
   "cell_type": "code",
   "execution_count": 22,
   "metadata": {
    "colab": {},
    "colab_type": "code",
    "id": "EdT_PCLPkHiu"
   },
   "outputs": [],
   "source": [
    "rfe.fit(X_R2L, Y_R2L.astype(int))\n",
    "X_rfeR2L=rfe.transform(X_R2L)\n",
    "true=rfe.support_\n",
    "rfecolindex_R2L=[i for i, x in enumerate(true) if x]\n",
    "rfecolname_R2L=list(colNames[i] for i in rfecolindex_R2L)"
   ]
  },
  {
   "cell_type": "code",
   "execution_count": 23,
   "metadata": {
    "colab": {},
    "colab_type": "code",
    "id": "G9DtjxmDkhTL"
   },
   "outputs": [],
   "source": [
    "rfe.fit(X_U2R, Y_U2R.astype(int))\n",
    "X_rfeU2R=rfe.transform(X_U2R)\n",
    "true=rfe.support_\n",
    "rfecolindex_U2R=[i for i, x in enumerate(true) if x]\n",
    "rfecolname_U2R=list(colNames[i] for i in rfecolindex_U2R)"
   ]
  },
  {
   "cell_type": "markdown",
   "metadata": {
    "colab_type": "text",
    "id": "z07YGhS3k8tN"
   },
   "source": [
    "**Summary of features selected by RFE**"
   ]
  },
  {
   "cell_type": "code",
   "execution_count": 24,
   "metadata": {
    "colab": {
     "base_uri": "https://localhost:8080/",
     "height": 156
    },
    "colab_type": "code",
    "id": "ej29Qdlxk6KO",
    "outputId": "ec6bacc6-457c-4b40-daeb-a103f8101ffb"
   },
   "outputs": [
    {
     "name": "stdout",
     "output_type": "stream",
     "text": [
      "Features selected for DoS: ['src_bytes', 'dst_bytes', 'wrong_fragment', 'hot', 'count', 'srv_count', 'same_srv_rate', 'diff_srv_rate', 'dst_host_same_src_port_rate', 'dst_host_serror_rate', 'Protocol_type_tcp', 'service_ecr_i', 'flag_S0']\n",
      "\n",
      "Features selected for Probe: ['src_bytes', 'dst_bytes', 'count', 'dst_host_srv_count', 'dst_host_same_srv_rate', 'dst_host_diff_srv_rate', 'dst_host_same_src_port_rate', 'dst_host_srv_diff_host_rate', 'dst_host_rerror_rate', 'dst_host_srv_rerror_rate', 'Protocol_type_icmp', 'Protocol_type_tcp', 'service_private']\n",
      "\n",
      "Features selected for R2L: ['duration', 'src_bytes', 'dst_bytes', 'hot', 'num_failed_logins', 'logged_in', 'is_guest_login', 'dst_host_count', 'dst_host_srv_count', 'dst_host_diff_srv_rate', 'dst_host_same_src_port_rate', 'dst_host_srv_diff_host_rate', 'service_ftp_data']\n",
      "\n",
      "Features selected for U2R: ['duration', 'src_bytes', 'dst_bytes', 'hot', 'num_compromised', 'root_shell', 'num_file_creations', 'dst_host_count', 'dst_host_srv_count', 'dst_host_diff_srv_rate', 'dst_host_same_src_port_rate', 'dst_host_srv_diff_host_rate', 'service_ftp_data']\n"
     ]
    }
   ],
   "source": [
    "print('Features selected for DoS:',rfecolname_DoS)\n",
    "print()\n",
    "print('Features selected for Probe:',rfecolname_Probe)\n",
    "print()\n",
    "print('Features selected for R2L:',rfecolname_R2L)\n",
    "print()\n",
    "print('Features selected for U2R:',rfecolname_U2R)"
   ]
  },
  {
   "cell_type": "code",
   "execution_count": 25,
   "metadata": {
    "colab": {
     "base_uri": "https://localhost:8080/",
     "height": 85
    },
    "colab_type": "code",
    "id": "25gCTl0HlCrP",
    "outputId": "1b7dde02-93a8-4155-c8ad-a5409b17f9f0"
   },
   "outputs": [
    {
     "name": "stdout",
     "output_type": "stream",
     "text": [
      "(113270, 13)\n",
      "(78999, 13)\n",
      "(68338, 13)\n",
      "(67395, 13)\n"
     ]
    }
   ],
   "source": [
    "print(X_rfeDoS.shape)\n",
    "print(X_rfeProbe.shape)\n",
    "print(X_rfeR2L.shape)\n",
    "print(X_rfeU2R.shape)\n"
   ]
  },
  {
   "cell_type": "markdown",
   "metadata": {
    "colab_type": "text",
    "id": "UIy12t5AlHMB"
   },
   "source": [
    "**Step 4: Build the model:**\n",
    "\n",
    "Classifier is trained for all features and for reduced features, for later comparison.\n",
    "\n",
    "The classifier model itself is stored in the clf variable."
   ]
  },
  {
   "cell_type": "code",
   "execution_count": 26,
   "metadata": {
    "colab": {
     "base_uri": "https://localhost:8080/",
     "height": 136
    },
    "colab_type": "code",
    "id": "uw1m5wUelNr8",
    "outputId": "d9cc05e2-1269-4501-f606-3a15b9f53b6a"
   },
   "outputs": [],
   "source": [
    "# all features\n",
    "clf_DoS=RandomForestClassifier(n_estimators=10,n_jobs=2)\n",
    "clf_Probe=RandomForestClassifier(n_estimators=10,n_jobs=2)\n",
    "clf_R2L=RandomForestClassifier(n_estimators=10,n_jobs=2)\n",
    "clf_U2R=RandomForestClassifier(n_estimators=10,n_jobs=2)\n",
    "\n",
    "clf_DoS.fit(X_DoS, Y_DoS.astype(int))\n",
    "clf_Probe.fit(X_Probe, Y_Probe.astype(int))\n",
    "clf_R2L.fit(X_R2L, Y_R2L.astype(int))\n",
    "clf_U2R.fit(X_U2R, Y_U2R.astype(int))\n",
    "\n",
    "filename_DoS = \"model_DoS.sav\"\n",
    "pickle.dump(clf_DoS, open(filename_DoS, 'wb'))\n",
    "\n",
    "filename_Probe = \"model_Probe.sav\"\n",
    "pickle.dump(clf_Probe, open(filename_Probe, 'wb'))\n",
    "\n",
    "filename_R2L = \"model_R2L.sav\"\n",
    "pickle.dump(clf_R2L, open(filename_R2L, 'wb'))\n",
    "\n",
    "filename_U2R = \"model_U2R.sav\"\n",
    "pickle.dump(clf_U2R, open(filename_U2R, 'wb'))"
   ]
  },
  {
   "cell_type": "code",
   "execution_count": 27,
   "metadata": {
    "colab": {
     "base_uri": "https://localhost:8080/",
     "height": 136
    },
    "colab_type": "code",
    "id": "hBAfHdBdlnlW",
    "outputId": "ddc9d26d-f33b-4492-e00f-85c712a807cf",
    "scrolled": true
   },
   "outputs": [
    {
     "data": {
      "text/plain": [
       "RandomForestClassifier(n_estimators=10, n_jobs=2)"
      ]
     },
     "execution_count": 27,
     "metadata": {},
     "output_type": "execute_result"
    }
   ],
   "source": [
    "# selected features\n",
    "clf_rfeDoS=RandomForestClassifier(n_estimators=10,n_jobs=2)\n",
    "clf_rfeProbe=RandomForestClassifier(n_estimators=10,n_jobs=2)\n",
    "clf_rfeR2L=RandomForestClassifier(n_estimators=10,n_jobs=2)\n",
    "clf_rfeU2R=RandomForestClassifier(n_estimators=10,n_jobs=2)\n",
    "clf_rfeDoS.fit(X_rfeDoS, Y_DoS.astype(int))\n",
    "clf_rfeProbe.fit(X_rfeProbe, Y_Probe.astype(int))\n",
    "clf_rfeR2L.fit(X_rfeR2L, Y_R2L.astype(int))\n",
    "clf_rfeU2R.fit(X_rfeU2R, Y_U2R.astype(int))"
   ]
  },
  {
   "cell_type": "markdown",
   "metadata": {
    "colab_type": "text",
    "id": "1dnH9hPel4Pl"
   },
   "source": [
    "**Step 5: Prediction & Evaluation (validation):**\n",
    "\n",
    "\n",
    "---\n",
    "\n",
    "\n",
    "\n",
    "Using all Features for each category\n",
    "\n",
    "Confusion Matrices\n",
    "\n",
    "\n",
    "---\n",
    "\n",
    "\n",
    "\n",
    "**DoS**"
   ]
  },
  {
   "cell_type": "code",
   "execution_count": 28,
   "metadata": {
    "colab": {
     "base_uri": "https://localhost:8080/",
     "height": 34
    },
    "colab_type": "code",
    "id": "hwR59uW4l_Iy",
    "outputId": "6c887bd2-c98c-4bfe-cafb-86b62181cb45"
   },
   "outputs": [
    {
     "data": {
      "text/plain": [
       "array([1, 1, 0, ..., 0, 0, 0])"
      ]
     },
     "execution_count": 28,
     "metadata": {},
     "output_type": "execute_result"
    }
   ],
   "source": [
    "# Apply the classifier we trained to the test data (which it has never seen before)\n",
    "clf_DoS.predict(X_DoS_test)"
   ]
  },
  {
   "cell_type": "code",
   "execution_count": 29,
   "metadata": {
    "colab": {
     "base_uri": "https://localhost:8080/",
     "height": 187
    },
    "colab_type": "code",
    "id": "3ilISJ2rmGWW",
    "outputId": "6f145b10-a3ed-4662-acb2-a183db2a8c46",
    "scrolled": false
   },
   "outputs": [
    {
     "data": {
      "text/plain": [
       "array([[0.4, 0.6],\n",
       "       [0.4, 0.6],\n",
       "       [1. , 0. ],\n",
       "       ...,\n",
       "       [0.9, 0.1],\n",
       "       [1. , 0. ],\n",
       "       [0.9, 0.1]])"
      ]
     },
     "execution_count": 29,
     "metadata": {},
     "output_type": "execute_result"
    }
   ],
   "source": [
    "# View the predicted probabilities of the first 10 observations\n",
    "clf_DoS.predict_proba(X_DoS_test)"
   ]
  },
  {
   "cell_type": "code",
   "execution_count": 30,
   "metadata": {
    "colab": {
     "base_uri": "https://localhost:8080/",
     "height": 142
    },
    "colab_type": "code",
    "id": "5BEe8Ar1mH83",
    "outputId": "0abaa0e2-3882-4979-b253-cee41fb0efbc"
   },
   "outputs": [
    {
     "data": {
      "text/html": [
       "<div>\n",
       "<style scoped>\n",
       "    .dataframe tbody tr th:only-of-type {\n",
       "        vertical-align: middle;\n",
       "    }\n",
       "\n",
       "    .dataframe tbody tr th {\n",
       "        vertical-align: top;\n",
       "    }\n",
       "\n",
       "    .dataframe thead th {\n",
       "        text-align: right;\n",
       "    }\n",
       "</style>\n",
       "<table border=\"1\" class=\"dataframe\">\n",
       "  <thead>\n",
       "    <tr style=\"text-align: right;\">\n",
       "      <th>Predicted attacks</th>\n",
       "      <th>0</th>\n",
       "      <th>1</th>\n",
       "    </tr>\n",
       "    <tr>\n",
       "      <th>Actual attacks</th>\n",
       "      <th></th>\n",
       "      <th></th>\n",
       "    </tr>\n",
       "  </thead>\n",
       "  <tbody>\n",
       "    <tr>\n",
       "      <th>0</th>\n",
       "      <td>9709</td>\n",
       "      <td>2</td>\n",
       "    </tr>\n",
       "    <tr>\n",
       "      <th>1</th>\n",
       "      <td>2824</td>\n",
       "      <td>4636</td>\n",
       "    </tr>\n",
       "  </tbody>\n",
       "</table>\n",
       "</div>"
      ],
      "text/plain": [
       "Predicted attacks     0     1\n",
       "Actual attacks               \n",
       "0                  9709     2\n",
       "1                  2824  4636"
      ]
     },
     "execution_count": 30,
     "metadata": {},
     "output_type": "execute_result"
    }
   ],
   "source": [
    "Y_DoS_pred=clf_DoS.predict(X_DoS_test)\n",
    "\n",
    "# Create confusion matrix\n",
    "pd.crosstab(Y_DoS_test, Y_DoS_pred, rownames=['Actual attacks'], colnames=['Predicted attacks'])"
   ]
  },
  {
   "cell_type": "markdown",
   "metadata": {
    "colab_type": "text",
    "id": "CHQRCzW9mPGx"
   },
   "source": [
    "**Probe**"
   ]
  },
  {
   "cell_type": "code",
   "execution_count": 31,
   "metadata": {
    "colab": {
     "base_uri": "https://localhost:8080/",
     "height": 142
    },
    "colab_type": "code",
    "id": "xUIiP1bZmdeR",
    "outputId": "f36acf64-d3a4-4466-ef3b-bb9c62dc623f"
   },
   "outputs": [
    {
     "data": {
      "text/html": [
       "<div>\n",
       "<style scoped>\n",
       "    .dataframe tbody tr th:only-of-type {\n",
       "        vertical-align: middle;\n",
       "    }\n",
       "\n",
       "    .dataframe tbody tr th {\n",
       "        vertical-align: top;\n",
       "    }\n",
       "\n",
       "    .dataframe thead th {\n",
       "        text-align: right;\n",
       "    }\n",
       "</style>\n",
       "<table border=\"1\" class=\"dataframe\">\n",
       "  <thead>\n",
       "    <tr style=\"text-align: right;\">\n",
       "      <th>Predted attacks</th>\n",
       "      <th>0</th>\n",
       "      <th>2</th>\n",
       "    </tr>\n",
       "    <tr>\n",
       "      <th>Actual attackics</th>\n",
       "      <th></th>\n",
       "      <th></th>\n",
       "    </tr>\n",
       "  </thead>\n",
       "  <tbody>\n",
       "    <tr>\n",
       "      <th>0</th>\n",
       "      <td>9484</td>\n",
       "      <td>227</td>\n",
       "    </tr>\n",
       "    <tr>\n",
       "      <th>2</th>\n",
       "      <td>1006</td>\n",
       "      <td>1415</td>\n",
       "    </tr>\n",
       "  </tbody>\n",
       "</table>\n",
       "</div>"
      ],
      "text/plain": [
       "Predted attacks      0     2\n",
       "Actual attackics            \n",
       "0                 9484   227\n",
       "2                 1006  1415"
      ]
     },
     "execution_count": 31,
     "metadata": {},
     "output_type": "execute_result"
    }
   ],
   "source": [
    "Y_Probe_pred=clf_Probe.predict(X_Probe_test)\n",
    "\n",
    "# Create confusion matrix\n",
    "pd.crosstab(Y_Probe_test, Y_Probe_pred, rownames=['Actual attackics'], colnames=['Predted attacks'])"
   ]
  },
  {
   "cell_type": "markdown",
   "metadata": {
    "colab_type": "text",
    "id": "vm92mbNfmjF4"
   },
   "source": [
    "**R2L**"
   ]
  },
  {
   "cell_type": "code",
   "execution_count": 32,
   "metadata": {
    "colab": {
     "base_uri": "https://localhost:8080/",
     "height": 142
    },
    "colab_type": "code",
    "id": "z7ro_ovNmkIz",
    "outputId": "5be82c6a-90dc-4984-e7b9-1d721b648f8a"
   },
   "outputs": [
    {
     "data": {
      "text/html": [
       "<div>\n",
       "<style scoped>\n",
       "    .dataframe tbody tr th:only-of-type {\n",
       "        vertical-align: middle;\n",
       "    }\n",
       "\n",
       "    .dataframe tbody tr th {\n",
       "        vertical-align: top;\n",
       "    }\n",
       "\n",
       "    .dataframe thead th {\n",
       "        text-align: right;\n",
       "    }\n",
       "</style>\n",
       "<table border=\"1\" class=\"dataframe\">\n",
       "  <thead>\n",
       "    <tr style=\"text-align: right;\">\n",
       "      <th>Predicted attacks</th>\n",
       "      <th>0</th>\n",
       "    </tr>\n",
       "    <tr>\n",
       "      <th>Actual attacks</th>\n",
       "      <th></th>\n",
       "    </tr>\n",
       "  </thead>\n",
       "  <tbody>\n",
       "    <tr>\n",
       "      <th>0</th>\n",
       "      <td>9711</td>\n",
       "    </tr>\n",
       "    <tr>\n",
       "      <th>3</th>\n",
       "      <td>2885</td>\n",
       "    </tr>\n",
       "  </tbody>\n",
       "</table>\n",
       "</div>"
      ],
      "text/plain": [
       "Predicted attacks     0\n",
       "Actual attacks         \n",
       "0                  9711\n",
       "3                  2885"
      ]
     },
     "execution_count": 32,
     "metadata": {},
     "output_type": "execute_result"
    }
   ],
   "source": [
    "Y_R2L_pred=clf_R2L.predict(X_R2L_test)\n",
    "\n",
    "# Create confusion matrix\n",
    "pd.crosstab(Y_R2L_test, Y_R2L_pred, rownames=['Actual attacks'], colnames=['Predicted attacks'])"
   ]
  },
  {
   "cell_type": "markdown",
   "metadata": {
    "colab_type": "text",
    "id": "2sXrTdVHmpjr"
   },
   "source": [
    "**U2R**"
   ]
  },
  {
   "cell_type": "code",
   "execution_count": 33,
   "metadata": {
    "colab": {
     "base_uri": "https://localhost:8080/",
     "height": 142
    },
    "colab_type": "code",
    "id": "b8MtOKsemrAN",
    "outputId": "23ce2a70-ee01-4d3c-b7ef-a42f58faed39"
   },
   "outputs": [
    {
     "data": {
      "text/html": [
       "<div>\n",
       "<style scoped>\n",
       "    .dataframe tbody tr th:only-of-type {\n",
       "        vertical-align: middle;\n",
       "    }\n",
       "\n",
       "    .dataframe tbody tr th {\n",
       "        vertical-align: top;\n",
       "    }\n",
       "\n",
       "    .dataframe thead th {\n",
       "        text-align: right;\n",
       "    }\n",
       "</style>\n",
       "<table border=\"1\" class=\"dataframe\">\n",
       "  <thead>\n",
       "    <tr style=\"text-align: right;\">\n",
       "      <th>Predicted attacks</th>\n",
       "      <th>0</th>\n",
       "    </tr>\n",
       "    <tr>\n",
       "      <th>Actual attacks</th>\n",
       "      <th></th>\n",
       "    </tr>\n",
       "  </thead>\n",
       "  <tbody>\n",
       "    <tr>\n",
       "      <th>0</th>\n",
       "      <td>9711</td>\n",
       "    </tr>\n",
       "    <tr>\n",
       "      <th>4</th>\n",
       "      <td>67</td>\n",
       "    </tr>\n",
       "  </tbody>\n",
       "</table>\n",
       "</div>"
      ],
      "text/plain": [
       "Predicted attacks     0\n",
       "Actual attacks         \n",
       "0                  9711\n",
       "4                    67"
      ]
     },
     "execution_count": 33,
     "metadata": {},
     "output_type": "execute_result"
    }
   ],
   "source": [
    "Y_U2R_pred=clf_U2R.predict(X_U2R_test)\n",
    "\n",
    "# Create confusion matrix\n",
    "pd.crosstab(Y_U2R_test, Y_U2R_pred, rownames=['Actual attacks'], colnames=['Predicted attacks'])"
   ]
  },
  {
   "cell_type": "markdown",
   "metadata": {
    "colab_type": "text",
    "id": "NLCyve_1muNe"
   },
   "source": [
    "**Cross Validation: Accuracy, Precision, Recall, F-measure**"
   ]
  },
  {
   "cell_type": "markdown",
   "metadata": {
    "colab_type": "text",
    "id": "nEqJCtJUm2wz"
   },
   "source": [
    "**DoS**"
   ]
  },
  {
   "cell_type": "code",
   "execution_count": 34,
   "metadata": {
    "colab": {
     "base_uri": "https://localhost:8080/",
     "height": 85
    },
    "colab_type": "code",
    "id": "smwc3tZUmvaf",
    "outputId": "4d791e8e-7813-41af-fd94-69cf0e1c182b"
   },
   "outputs": [
    {
     "name": "stdout",
     "output_type": "stream",
     "text": [
      "Accuracy: 0.99785 (+/- 0.00255)\n",
      "Precision: 0.99866 (+/- 0.00269)\n",
      "Recall: 0.99678 (+/- 0.00452)\n",
      "F-measure: 0.99799 (+/- 0.00350)\n"
     ]
    }
   ],
   "source": [
    "from sklearn.model_selection import cross_val_score\n",
    "from sklearn import metrics\n",
    "accuracy = cross_val_score(clf_DoS, X_DoS_test, Y_DoS_test, cv=10, scoring='accuracy')\n",
    "print(\"Accuracy: %0.5f (+/- %0.5f)\" % (accuracy.mean(), accuracy.std() * 2))\n",
    "precision = cross_val_score(clf_DoS, X_DoS_test, Y_DoS_test, cv=10, scoring='precision')\n",
    "print(\"Precision: %0.5f (+/- %0.5f)\" % (precision.mean(), precision.std() * 2))\n",
    "recall = cross_val_score(clf_DoS, X_DoS_test, Y_DoS_test, cv=10, scoring='recall')\n",
    "print(\"Recall: %0.5f (+/- %0.5f)\" % (recall.mean(), recall.std() * 2))\n",
    "f = cross_val_score(clf_DoS, X_DoS_test, Y_DoS_test, cv=10, scoring='f1')\n",
    "print(\"F-measure: %0.5f (+/- %0.5f)\" % (f.mean(), f.std() * 2))"
   ]
  },
  {
   "cell_type": "markdown",
   "metadata": {
    "colab_type": "text",
    "id": "isVUQMo6m5Gu"
   },
   "source": [
    "**Probe**"
   ]
  },
  {
   "cell_type": "code",
   "execution_count": 35,
   "metadata": {
    "colab": {
     "base_uri": "https://localhost:8080/",
     "height": 85
    },
    "colab_type": "code",
    "id": "0UQ7ZKMZm6Ye",
    "outputId": "55bbce90-5c07-40de-d33d-8ccb91e18f7c"
   },
   "outputs": [
    {
     "name": "stdout",
     "output_type": "stream",
     "text": [
      "Accuracy: 0.99687 (+/- 0.00302)\n",
      "Precision: 0.99639 (+/- 0.00427)\n",
      "Recall: 0.99324 (+/- 0.00620)\n",
      "F-measure: 0.99470 (+/- 0.00409)\n"
     ]
    }
   ],
   "source": [
    "accuracy = cross_val_score(clf_Probe, X_Probe_test, Y_Probe_test, cv=10, scoring='accuracy')\n",
    "print(\"Accuracy: %0.5f (+/- %0.5f)\" % (accuracy.mean(), accuracy.std() * 2))\n",
    "precision = cross_val_score(clf_Probe, X_Probe_test, Y_Probe_test, cv=10, scoring='precision_macro')\n",
    "print(\"Precision: %0.5f (+/- %0.5f)\" % (precision.mean(), precision.std() * 2))\n",
    "recall = cross_val_score(clf_Probe, X_Probe_test, Y_Probe_test, cv=10, scoring='recall_macro')\n",
    "print(\"Recall: %0.5f (+/- %0.5f)\" % (recall.mean(), recall.std() * 2))\n",
    "f = cross_val_score(clf_Probe, X_Probe_test, Y_Probe_test, cv=10, scoring='f1_macro')\n",
    "print(\"F-measure: %0.5f (+/- %0.5f)\" % (f.mean(), f.std() * 2))"
   ]
  },
  {
   "cell_type": "markdown",
   "metadata": {
    "colab_type": "text",
    "id": "oDtTPPlgnPky"
   },
   "source": [
    "**U2R**"
   ]
  },
  {
   "cell_type": "code",
   "execution_count": 36,
   "metadata": {
    "colab": {
     "base_uri": "https://localhost:8080/",
     "height": 85
    },
    "colab_type": "code",
    "id": "TdxuBHTrnO7W",
    "outputId": "98f7d852-84a2-4acc-f85a-ced58dbe5964"
   },
   "outputs": [
    {
     "name": "stdout",
     "output_type": "stream",
     "text": [
      "Accuracy: 0.99755 (+/- 0.00306)\n",
      "Precision: 0.98231 (+/- 0.06642)\n",
      "Recall: 0.83685 (+/- 0.12070)\n",
      "F-measure: 0.90667 (+/- 0.14870)\n"
     ]
    }
   ],
   "source": [
    "accuracy = cross_val_score(clf_U2R, X_U2R_test, Y_U2R_test, cv=10, scoring='accuracy')\n",
    "print(\"Accuracy: %0.5f (+/- %0.5f)\" % (accuracy.mean(), accuracy.std() * 2))\n",
    "precision = cross_val_score(clf_U2R, X_U2R_test, Y_U2R_test, cv=10, scoring='precision_macro')\n",
    "print(\"Precision: %0.5f (+/- %0.5f)\" % (precision.mean(), precision.std() * 2))\n",
    "recall = cross_val_score(clf_U2R, X_U2R_test, Y_U2R_test, cv=10, scoring='recall_macro')\n",
    "print(\"Recall: %0.5f (+/- %0.5f)\" % (recall.mean(), recall.std() * 2))\n",
    "f = cross_val_score(clf_U2R, X_U2R_test, Y_U2R_test, cv=10, scoring='f1_macro')\n",
    "print(\"F-measure: %0.5f (+/- %0.5f)\" % (f.mean(), f.std() * 2))\n"
   ]
  },
  {
   "cell_type": "markdown",
   "metadata": {
    "colab_type": "text",
    "id": "rRdxQ64LwtBj"
   },
   "source": [
    "**R2L**"
   ]
  },
  {
   "cell_type": "code",
   "execution_count": 37,
   "metadata": {
    "colab": {
     "base_uri": "https://localhost:8080/",
     "height": 85
    },
    "colab_type": "code",
    "id": "MrfDjRonwqSr",
    "outputId": "163fde91-e9ce-4110-8674-abfd0155d8d0"
   },
   "outputs": [
    {
     "name": "stdout",
     "output_type": "stream",
     "text": [
      "Accuracy: 0.97960 (+/- 0.00717)\n",
      "Precision: 0.97409 (+/- 0.00617)\n",
      "Recall: 0.97063 (+/- 0.01001)\n",
      "F-measure: 0.97219 (+/- 0.00686)\n"
     ]
    }
   ],
   "source": [
    "accuracy = cross_val_score(clf_R2L, X_R2L_test, Y_R2L_test, cv=10, scoring='accuracy')\n",
    "print(\"Accuracy: %0.5f (+/- %0.5f)\" % (accuracy.mean(), accuracy.std() * 2))\n",
    "precision = cross_val_score(clf_R2L, X_R2L_test, Y_R2L_test, cv=10, scoring='precision_macro')\n",
    "print(\"Precision: %0.5f (+/- %0.5f)\" % (precision.mean(), precision.std() * 2))\n",
    "recall = cross_val_score(clf_R2L, X_R2L_test, Y_R2L_test, cv=10, scoring='recall_macro')\n",
    "print(\"Recall: %0.5f (+/- %0.5f)\" % (recall.mean(), recall.std() * 2))\n",
    "f = cross_val_score(clf_R2L, X_R2L_test, Y_R2L_test, cv=10, scoring='f1_macro')\n",
    "print(\"F-measure: %0.5f (+/- %0.5f)\" % (f.mean(), f.std() * 2))"
   ]
  },
  {
   "cell_type": "markdown",
   "metadata": {
    "colab_type": "text",
    "id": "pNJ5P6K8nX61"
   },
   "source": [
    "**Using 13 Features for each category**\n",
    "\n",
    "\n",
    "**Confusion Matrices**\n",
    "\n",
    "**DoS**"
   ]
  },
  {
   "cell_type": "code",
   "execution_count": 38,
   "metadata": {
    "colab": {
     "base_uri": "https://localhost:8080/",
     "height": 34
    },
    "colab_type": "code",
    "id": "PI--9Z3xnZPL",
    "outputId": "4058e22f-c152-4f0b-b881-5b27b4693c4e"
   },
   "outputs": [
    {
     "data": {
      "text/plain": [
       "(9778, 13)"
      ]
     },
     "execution_count": 38,
     "metadata": {},
     "output_type": "execute_result"
    }
   ],
   "source": [
    "# reduce test dataset to 13 features, use only features described in rfecolname_DoS etc.\n",
    "X_DoS_test2=X_DoS_test[:,rfecolindex_DoS]\n",
    "X_Probe_test2=X_Probe_test[:,rfecolindex_Probe]\n",
    "X_R2L_test2=X_R2L_test[:,rfecolindex_R2L]\n",
    "X_U2R_test2=X_U2R_test[:,rfecolindex_U2R]\n",
    "X_U2R_test2.shape"
   ]
  },
  {
   "cell_type": "code",
   "execution_count": 39,
   "metadata": {
    "colab": {
     "base_uri": "https://localhost:8080/",
     "height": 142
    },
    "colab_type": "code",
    "id": "dvfVjn1IpdkF",
    "outputId": "5d7232e5-3162-40cf-e8ba-c7051f010bd6"
   },
   "outputs": [
    {
     "data": {
      "text/html": [
       "<div>\n",
       "<style scoped>\n",
       "    .dataframe tbody tr th:only-of-type {\n",
       "        vertical-align: middle;\n",
       "    }\n",
       "\n",
       "    .dataframe tbody tr th {\n",
       "        vertical-align: top;\n",
       "    }\n",
       "\n",
       "    .dataframe thead th {\n",
       "        text-align: right;\n",
       "    }\n",
       "</style>\n",
       "<table border=\"1\" class=\"dataframe\">\n",
       "  <thead>\n",
       "    <tr style=\"text-align: right;\">\n",
       "      <th>Predicted attacks</th>\n",
       "      <th>0</th>\n",
       "      <th>1</th>\n",
       "    </tr>\n",
       "    <tr>\n",
       "      <th>Actual attacks</th>\n",
       "      <th></th>\n",
       "      <th></th>\n",
       "    </tr>\n",
       "  </thead>\n",
       "  <tbody>\n",
       "    <tr>\n",
       "      <th>0</th>\n",
       "      <td>8151</td>\n",
       "      <td>1560</td>\n",
       "    </tr>\n",
       "    <tr>\n",
       "      <th>1</th>\n",
       "      <td>2423</td>\n",
       "      <td>5037</td>\n",
       "    </tr>\n",
       "  </tbody>\n",
       "</table>\n",
       "</div>"
      ],
      "text/plain": [
       "Predicted attacks     0     1\n",
       "Actual attacks               \n",
       "0                  8151  1560\n",
       "1                  2423  5037"
      ]
     },
     "execution_count": 39,
     "metadata": {},
     "output_type": "execute_result"
    }
   ],
   "source": [
    "Y_DoS_pred2=clf_rfeDoS.predict(X_DoS_test2)\n",
    "# Create confusion matrix\n",
    "pd.crosstab(Y_DoS_test, Y_DoS_pred2, rownames=['Actual attacks'], colnames=['Predicted attacks'])"
   ]
  },
  {
   "cell_type": "markdown",
   "metadata": {
    "colab_type": "text",
    "id": "5pNtpNWFpjqc"
   },
   "source": [
    "**Probe**"
   ]
  },
  {
   "cell_type": "code",
   "execution_count": 40,
   "metadata": {
    "colab": {
     "base_uri": "https://localhost:8080/",
     "height": 142
    },
    "colab_type": "code",
    "id": "bZk-GxAOpiDy",
    "outputId": "b4c3fc2d-649f-4579-874c-3c3d951216cf"
   },
   "outputs": [
    {
     "data": {
      "text/html": [
       "<div>\n",
       "<style scoped>\n",
       "    .dataframe tbody tr th:only-of-type {\n",
       "        vertical-align: middle;\n",
       "    }\n",
       "\n",
       "    .dataframe tbody tr th {\n",
       "        vertical-align: top;\n",
       "    }\n",
       "\n",
       "    .dataframe thead th {\n",
       "        text-align: right;\n",
       "    }\n",
       "</style>\n",
       "<table border=\"1\" class=\"dataframe\">\n",
       "  <thead>\n",
       "    <tr style=\"text-align: right;\">\n",
       "      <th>Predicted attacks</th>\n",
       "      <th>0</th>\n",
       "      <th>2</th>\n",
       "    </tr>\n",
       "    <tr>\n",
       "      <th>Actual attacks</th>\n",
       "      <th></th>\n",
       "      <th></th>\n",
       "    </tr>\n",
       "  </thead>\n",
       "  <tbody>\n",
       "    <tr>\n",
       "      <th>0</th>\n",
       "      <td>9369</td>\n",
       "      <td>342</td>\n",
       "    </tr>\n",
       "    <tr>\n",
       "      <th>2</th>\n",
       "      <td>1005</td>\n",
       "      <td>1416</td>\n",
       "    </tr>\n",
       "  </tbody>\n",
       "</table>\n",
       "</div>"
      ],
      "text/plain": [
       "Predicted attacks     0     2\n",
       "Actual attacks               \n",
       "0                  9369   342\n",
       "2                  1005  1416"
      ]
     },
     "execution_count": 40,
     "metadata": {},
     "output_type": "execute_result"
    }
   ],
   "source": [
    "Y_Probe_pred2=clf_rfeProbe.predict(X_Probe_test2)\n",
    "# Create confusion matrix\n",
    "pd.crosstab(Y_Probe_test, Y_Probe_pred2, rownames=['Actual attacks'], colnames=['Predicted attacks'])\n"
   ]
  },
  {
   "cell_type": "markdown",
   "metadata": {
    "colab_type": "text",
    "id": "dhP4467dpoon"
   },
   "source": [
    "**R2L**"
   ]
  },
  {
   "cell_type": "code",
   "execution_count": 41,
   "metadata": {
    "colab": {
     "base_uri": "https://localhost:8080/",
     "height": 142
    },
    "colab_type": "code",
    "id": "itCdtf4Opykb",
    "outputId": "fee21e54-d04d-47ca-ae56-aa3374ab691b"
   },
   "outputs": [
    {
     "data": {
      "text/html": [
       "<div>\n",
       "<style scoped>\n",
       "    .dataframe tbody tr th:only-of-type {\n",
       "        vertical-align: middle;\n",
       "    }\n",
       "\n",
       "    .dataframe tbody tr th {\n",
       "        vertical-align: top;\n",
       "    }\n",
       "\n",
       "    .dataframe thead th {\n",
       "        text-align: right;\n",
       "    }\n",
       "</style>\n",
       "<table border=\"1\" class=\"dataframe\">\n",
       "  <thead>\n",
       "    <tr style=\"text-align: right;\">\n",
       "      <th>Predicted attacks</th>\n",
       "      <th>0</th>\n",
       "      <th>3</th>\n",
       "    </tr>\n",
       "    <tr>\n",
       "      <th>Actual attacks</th>\n",
       "      <th></th>\n",
       "      <th></th>\n",
       "    </tr>\n",
       "  </thead>\n",
       "  <tbody>\n",
       "    <tr>\n",
       "      <th>0</th>\n",
       "      <td>9711</td>\n",
       "      <td>0</td>\n",
       "    </tr>\n",
       "    <tr>\n",
       "      <th>3</th>\n",
       "      <td>2874</td>\n",
       "      <td>11</td>\n",
       "    </tr>\n",
       "  </tbody>\n",
       "</table>\n",
       "</div>"
      ],
      "text/plain": [
       "Predicted attacks     0   3\n",
       "Actual attacks             \n",
       "0                  9711   0\n",
       "3                  2874  11"
      ]
     },
     "execution_count": 41,
     "metadata": {},
     "output_type": "execute_result"
    }
   ],
   "source": [
    "Y_R2L_pred2=clf_rfeR2L.predict(X_R2L_test2)\n",
    "# Create confusion matrix\n",
    "pd.crosstab(Y_R2L_test, Y_R2L_pred2, rownames=['Actual attacks'], colnames=['Predicted attacks'])\n"
   ]
  },
  {
   "cell_type": "markdown",
   "metadata": {
    "colab_type": "text",
    "id": "_CuyYSWMp3wP"
   },
   "source": [
    "**U2R**"
   ]
  },
  {
   "cell_type": "code",
   "execution_count": 42,
   "metadata": {
    "colab": {
     "base_uri": "https://localhost:8080/",
     "height": 142
    },
    "colab_type": "code",
    "id": "LB5Sve1Xp5Qz",
    "outputId": "4f5b8012-3b8a-43db-91a3-89d33fb58709"
   },
   "outputs": [
    {
     "data": {
      "text/html": [
       "<div>\n",
       "<style scoped>\n",
       "    .dataframe tbody tr th:only-of-type {\n",
       "        vertical-align: middle;\n",
       "    }\n",
       "\n",
       "    .dataframe tbody tr th {\n",
       "        vertical-align: top;\n",
       "    }\n",
       "\n",
       "    .dataframe thead th {\n",
       "        text-align: right;\n",
       "    }\n",
       "</style>\n",
       "<table border=\"1\" class=\"dataframe\">\n",
       "  <thead>\n",
       "    <tr style=\"text-align: right;\">\n",
       "      <th>Predicted attacks</th>\n",
       "      <th>0</th>\n",
       "      <th>4</th>\n",
       "    </tr>\n",
       "    <tr>\n",
       "      <th>Actual attacks</th>\n",
       "      <th></th>\n",
       "      <th></th>\n",
       "    </tr>\n",
       "  </thead>\n",
       "  <tbody>\n",
       "    <tr>\n",
       "      <th>0</th>\n",
       "      <td>9710</td>\n",
       "      <td>1</td>\n",
       "    </tr>\n",
       "    <tr>\n",
       "      <th>4</th>\n",
       "      <td>58</td>\n",
       "      <td>9</td>\n",
       "    </tr>\n",
       "  </tbody>\n",
       "</table>\n",
       "</div>"
      ],
      "text/plain": [
       "Predicted attacks     0  4\n",
       "Actual attacks            \n",
       "0                  9710  1\n",
       "4                    58  9"
      ]
     },
     "execution_count": 42,
     "metadata": {},
     "output_type": "execute_result"
    }
   ],
   "source": [
    "Y_U2R_pred2=clf_rfeU2R.predict(X_U2R_test2)\n",
    "# Create confusion matrix\n",
    "pd.crosstab(Y_U2R_test, Y_U2R_pred2, rownames=['Actual attacks'], colnames=['Predicted attacks'])"
   ]
  },
  {
   "cell_type": "markdown",
   "metadata": {
    "colab_type": "text",
    "id": "7-Nz367hp8oG"
   },
   "source": [
    "**Cross Validation: Accuracy, Precision, Recall, F-measure**\n",
    "\n",
    "**DoS**\n"
   ]
  },
  {
   "cell_type": "code",
   "execution_count": 43,
   "metadata": {
    "colab": {
     "base_uri": "https://localhost:8080/",
     "height": 85
    },
    "colab_type": "code",
    "id": "eOq4IH2CqHxi",
    "outputId": "c026297d-5433-411e-9fdb-a4026bebe962"
   },
   "outputs": [
    {
     "name": "stdout",
     "output_type": "stream",
     "text": [
      "Accuracy: 0.99761 (+/- 0.00310)\n",
      "Precision: 0.99812 (+/- 0.00299)\n",
      "Recall: 0.99625 (+/- 0.00429)\n",
      "F-measure: 0.99745 (+/- 0.00340)\n"
     ]
    }
   ],
   "source": [
    "accuracy = cross_val_score(clf_rfeDoS, X_DoS_test2, Y_DoS_test, cv=10, scoring='accuracy')\n",
    "print(\"Accuracy: %0.5f (+/- %0.5f)\" % (accuracy.mean(), accuracy.std() * 2))\n",
    "precision = cross_val_score(clf_rfeDoS, X_DoS_test2, Y_DoS_test, cv=10, scoring='precision')\n",
    "print(\"Precision: %0.5f (+/- %0.5f)\" % (precision.mean(), precision.std() * 2))\n",
    "recall = cross_val_score(clf_rfeDoS, X_DoS_test2, Y_DoS_test, cv=10, scoring='recall')\n",
    "print(\"Recall: %0.5f (+/- %0.5f)\" % (recall.mean(), recall.std() * 2))\n",
    "f = cross_val_score(clf_rfeDoS, X_DoS_test2, Y_DoS_test, cv=10, scoring='f1')\n",
    "print(\"F-measure: %0.5f (+/- %0.5f)\" % (f.mean(), f.std() * 2))"
   ]
  },
  {
   "cell_type": "markdown",
   "metadata": {
    "colab_type": "text",
    "id": "6gkA-xV5qOJp"
   },
   "source": [
    "**Probe**"
   ]
  },
  {
   "cell_type": "code",
   "execution_count": 44,
   "metadata": {
    "colab": {
     "base_uri": "https://localhost:8080/",
     "height": 85
    },
    "colab_type": "code",
    "id": "ynF31fBiqPZV",
    "outputId": "c732f20f-23fa-41ff-f680-0cf4009a1fa6"
   },
   "outputs": [
    {
     "name": "stdout",
     "output_type": "stream",
     "text": [
      "Accuracy: 0.99448 (+/- 0.00369)\n",
      "Precision: 0.99313 (+/- 0.00700)\n",
      "Recall: 0.98787 (+/- 0.01060)\n",
      "F-measure: 0.99080 (+/- 0.00692)\n"
     ]
    }
   ],
   "source": [
    "accuracy = cross_val_score(clf_rfeProbe, X_Probe_test2, Y_Probe_test, cv=10, scoring='accuracy')\n",
    "print(\"Accuracy: %0.5f (+/- %0.5f)\" % (accuracy.mean(), accuracy.std() * 2))\n",
    "precision = cross_val_score(clf_rfeProbe, X_Probe_test2, Y_Probe_test, cv=10, scoring='precision_macro')\n",
    "print(\"Precision: %0.5f (+/- %0.5f)\" % (precision.mean(), precision.std() * 2))\n",
    "recall = cross_val_score(clf_rfeProbe, X_Probe_test2, Y_Probe_test, cv=10, scoring='recall_macro')\n",
    "print(\"Recall: %0.5f (+/- %0.5f)\" % (recall.mean(), recall.std() * 2))\n",
    "f = cross_val_score(clf_rfeProbe, X_Probe_test2, Y_Probe_test, cv=10, scoring='f1_macro')\n",
    "print(\"F-measure: %0.5f (+/- %0.5f)\" % (f.mean(), f.std() * 2))\n"
   ]
  },
  {
   "cell_type": "markdown",
   "metadata": {
    "colab_type": "text",
    "id": "BWyw08Z8qVi5"
   },
   "source": [
    "**R2L**"
   ]
  },
  {
   "cell_type": "code",
   "execution_count": 45,
   "metadata": {
    "colab": {
     "base_uri": "https://localhost:8080/",
     "height": 85
    },
    "colab_type": "code",
    "id": "eng_RcAVqVHx",
    "outputId": "2b782999-fa83-4f4a-e44b-5c549a63530b"
   },
   "outputs": [
    {
     "name": "stdout",
     "output_type": "stream",
     "text": [
      "Accuracy: 0.97729 (+/- 0.00943)\n",
      "Precision: 0.97237 (+/- 0.01186)\n",
      "Recall: 0.96529 (+/- 0.01558)\n",
      "F-measure: 0.96771 (+/- 0.00902)\n"
     ]
    }
   ],
   "source": [
    "accuracy = cross_val_score(clf_rfeR2L, X_R2L_test2, Y_R2L_test, cv=10, scoring='accuracy')\n",
    "print(\"Accuracy: %0.5f (+/- %0.5f)\" % (accuracy.mean(), accuracy.std() * 2))\n",
    "precision = cross_val_score(clf_rfeR2L, X_R2L_test2, Y_R2L_test, cv=10, scoring='precision_macro')\n",
    "print(\"Precision: %0.5f (+/- %0.5f)\" % (precision.mean(), precision.std() * 2))\n",
    "recall = cross_val_score(clf_rfeR2L, X_R2L_test2, Y_R2L_test, cv=10, scoring='recall_macro')\n",
    "print(\"Recall: %0.5f (+/- %0.5f)\" % (recall.mean(), recall.std() * 2))\n",
    "f = cross_val_score(clf_rfeR2L, X_R2L_test2, Y_R2L_test, cv=10, scoring='f1_macro')\n",
    "print(\"F-measure: %0.5f (+/- %0.5f)\" % (f.mean(), f.std() * 2))"
   ]
  },
  {
   "cell_type": "markdown",
   "metadata": {
    "colab_type": "text",
    "id": "omjGOf-9qdBY"
   },
   "source": [
    "**U2R**"
   ]
  },
  {
   "cell_type": "code",
   "execution_count": 46,
   "metadata": {
    "colab": {
     "base_uri": "https://localhost:8080/",
     "height": 85
    },
    "colab_type": "code",
    "id": "zhkYhoP1qfAt",
    "outputId": "b43e2565-d72e-49d2-aa67-b04772790e06"
   },
   "outputs": [
    {
     "name": "stdout",
     "output_type": "stream",
     "text": [
      "Accuracy: 0.99703 (+/- 0.00250)\n",
      "Precision: 0.97632 (+/- 0.09049)\n",
      "Recall: 0.79855 (+/- 0.15984)\n",
      "F-measure: 0.85682 (+/- 0.12352)\n"
     ]
    }
   ],
   "source": [
    "accuracy = cross_val_score(clf_rfeU2R, X_U2R_test2, Y_U2R_test, cv=10, scoring='accuracy')\n",
    "print(\"Accuracy: %0.5f (+/- %0.5f)\" % (accuracy.mean(), accuracy.std() * 2))\n",
    "precision = cross_val_score(clf_rfeU2R, X_U2R_test2, Y_U2R_test, cv=10, scoring='precision_macro')\n",
    "print(\"Precision: %0.5f (+/- %0.5f)\" % (precision.mean(), precision.std() * 2))\n",
    "recall = cross_val_score(clf_rfeU2R, X_U2R_test2, Y_U2R_test, cv=10, scoring='recall_macro')\n",
    "print(\"Recall: %0.5f (+/- %0.5f)\" % (recall.mean(), recall.std() * 2))\n",
    "f = cross_val_score(clf_rfeU2R, X_U2R_test2, Y_U2R_test, cv=10, scoring='f1_macro')\n",
    "print(\"F-measure: %0.5f (+/- %0.5f)\" % (f.mean(), f.std() * 2))"
   ]
  },
  {
   "cell_type": "code",
   "execution_count": 47,
   "metadata": {},
   "outputs": [
    {
     "name": "stdout",
     "output_type": "stream",
     "text": [
      "Simple Anomaly Detector for Zeek conn.log files. Version: 0.2\n",
      "Author: Sebastian Garcia (eldraco@gmail.com), Veronica Valeros (vero.valeros@gmail.com)\n",
      "\n",
      "Flows of the top anomalies\n",
      "       id.orig_h  id.orig_p  ... resp_ip_bytes         score\n",
      "270  10.0.90.215      49205  ...        313114  2.136671e+09\n",
      "130  10.0.90.215      49224  ...        866188  8.076550e+08\n",
      "269  10.0.90.215      49227  ...          6102  7.894519e+08\n",
      "77   10.0.90.215      49204  ...        835508  7.688101e+08\n",
      "219  10.0.90.215      49279  ...        643041  5.926922e+08\n",
      "113  10.0.90.215      49214  ...        643001  5.922629e+08\n",
      "141  10.0.90.215      49235  ...        542056  4.958893e+08\n",
      "235  10.0.90.215      49291  ...        519275  4.721308e+08\n",
      "123  10.0.90.215      49220  ...        519073  4.710229e+08\n",
      "180    10.0.90.9      49155  ...             0  3.163401e+08\n",
      "75   10.0.90.215      49194  ...          2253  3.159937e+08\n",
      "135  10.0.90.215      49231  ...          2196  3.159202e+08\n",
      "57   10.0.90.215      49173  ...          1905  3.156720e+08\n",
      "92   10.0.90.215      49209  ...           684  3.156268e+08\n",
      "202  10.0.90.215      49275  ...           684  3.156268e+08\n",
      "265  10.0.90.215      49309  ...          1501  3.155422e+08\n",
      "173  10.0.90.215      49254  ...          1501  3.155422e+08\n",
      "259  10.0.90.215      49306  ...          1405  3.155296e+08\n",
      "163  10.0.90.215      49249  ...          1485  3.155249e+08\n",
      "252  10.0.90.215      49301  ...          1485  3.155248e+08\n",
      "\n",
      "[20 rows x 14 columns]\n"
     ]
    }
   ],
   "source": [
    "from IPython.display import display\n",
    "pd.set_option('display.max_columns', None)\n",
    "!python3 zeek_anomaly_detector.py -a 20 -f conn.log"
   ]
  },
  {
   "cell_type": "code",
   "execution_count": 48,
   "metadata": {},
   "outputs": [
    {
     "data": {
      "text/html": [
       "<div>\n",
       "<style scoped>\n",
       "    .dataframe tbody tr th:only-of-type {\n",
       "        vertical-align: middle;\n",
       "    }\n",
       "\n",
       "    .dataframe tbody tr th {\n",
       "        vertical-align: top;\n",
       "    }\n",
       "\n",
       "    .dataframe thead th {\n",
       "        text-align: right;\n",
       "    }\n",
       "</style>\n",
       "<table border=\"1\" class=\"dataframe\">\n",
       "  <thead>\n",
       "    <tr style=\"text-align: right;\">\n",
       "      <th></th>\n",
       "      <th>uid</th>\n",
       "      <th>id.orig_h</th>\n",
       "      <th>id.orig_p</th>\n",
       "      <th>id.resp_h</th>\n",
       "      <th>id.resp_p</th>\n",
       "      <th>proto</th>\n",
       "      <th>trans_id</th>\n",
       "      <th>rtt</th>\n",
       "      <th>query</th>\n",
       "      <th>qclass</th>\n",
       "      <th>qclass_name</th>\n",
       "      <th>qtype</th>\n",
       "      <th>qtype_name</th>\n",
       "      <th>rcode</th>\n",
       "      <th>rcode_name</th>\n",
       "      <th>AA</th>\n",
       "      <th>TC</th>\n",
       "      <th>RD</th>\n",
       "      <th>RA</th>\n",
       "      <th>Z</th>\n",
       "      <th>answers</th>\n",
       "      <th>TTLs</th>\n",
       "      <th>rejected</th>\n",
       "    </tr>\n",
       "    <tr>\n",
       "      <th>ts</th>\n",
       "      <th></th>\n",
       "      <th></th>\n",
       "      <th></th>\n",
       "      <th></th>\n",
       "      <th></th>\n",
       "      <th></th>\n",
       "      <th></th>\n",
       "      <th></th>\n",
       "      <th></th>\n",
       "      <th></th>\n",
       "      <th></th>\n",
       "      <th></th>\n",
       "      <th></th>\n",
       "      <th></th>\n",
       "      <th></th>\n",
       "      <th></th>\n",
       "      <th></th>\n",
       "      <th></th>\n",
       "      <th></th>\n",
       "      <th></th>\n",
       "      <th></th>\n",
       "      <th></th>\n",
       "      <th></th>\n",
       "    </tr>\n",
       "  </thead>\n",
       "  <tbody>\n",
       "    <tr>\n",
       "      <th>2019-03-19 01:44:55.654616064</th>\n",
       "      <td>CPB1V03iUT0K033Nvd</td>\n",
       "      <td>10.0.90.215</td>\n",
       "      <td>63262</td>\n",
       "      <td>10.0.90.9</td>\n",
       "      <td>53</td>\n",
       "      <td>udp</td>\n",
       "      <td>49344</td>\n",
       "      <td>0 days 00:00:00.000444</td>\n",
       "      <td>_ldap._tcp.default-first-site-name._sites.dc._...</td>\n",
       "      <td>1</td>\n",
       "      <td>C_INTERNET</td>\n",
       "      <td>33</td>\n",
       "      <td>SRV</td>\n",
       "      <td>0</td>\n",
       "      <td>NOERROR</td>\n",
       "      <td>T</td>\n",
       "      <td>F</td>\n",
       "      <td>T</td>\n",
       "      <td>T</td>\n",
       "      <td>0</td>\n",
       "      <td>littletigers-dc.littletigers.info</td>\n",
       "      <td>600.000000</td>\n",
       "      <td>F</td>\n",
       "    </tr>\n",
       "    <tr>\n",
       "      <th>2019-03-19 01:44:55.657289984</th>\n",
       "      <td>ChWH8K1OKSi0mN05Rk</td>\n",
       "      <td>10.0.90.215</td>\n",
       "      <td>55332</td>\n",
       "      <td>10.0.90.9</td>\n",
       "      <td>53</td>\n",
       "      <td>udp</td>\n",
       "      <td>43386</td>\n",
       "      <td>0 days 00:00:00.000169</td>\n",
       "      <td>littletigers-dc.littletigers.info</td>\n",
       "      <td>1</td>\n",
       "      <td>C_INTERNET</td>\n",
       "      <td>1</td>\n",
       "      <td>A</td>\n",
       "      <td>0</td>\n",
       "      <td>NOERROR</td>\n",
       "      <td>T</td>\n",
       "      <td>F</td>\n",
       "      <td>T</td>\n",
       "      <td>T</td>\n",
       "      <td>0</td>\n",
       "      <td>10.0.90.9</td>\n",
       "      <td>3600.000000</td>\n",
       "      <td>F</td>\n",
       "    </tr>\n",
       "    <tr>\n",
       "      <th>2019-03-19 01:44:55.853591040</th>\n",
       "      <td>CIZgTz2rKj4HcYbW36</td>\n",
       "      <td>10.0.90.215</td>\n",
       "      <td>53248</td>\n",
       "      <td>10.0.90.9</td>\n",
       "      <td>53</td>\n",
       "      <td>udp</td>\n",
       "      <td>52321</td>\n",
       "      <td>0 days 00:00:00.000177</td>\n",
       "      <td>_ldap._tcp.default-first-site-name._sites.fore...</td>\n",
       "      <td>1</td>\n",
       "      <td>C_INTERNET</td>\n",
       "      <td>33</td>\n",
       "      <td>SRV</td>\n",
       "      <td>0</td>\n",
       "      <td>NOERROR</td>\n",
       "      <td>T</td>\n",
       "      <td>F</td>\n",
       "      <td>T</td>\n",
       "      <td>T</td>\n",
       "      <td>0</td>\n",
       "      <td>littletigers-dc.littletigers.info</td>\n",
       "      <td>600.000000</td>\n",
       "      <td>F</td>\n",
       "    </tr>\n",
       "    <tr>\n",
       "      <th>2019-03-19 01:44:55.922339072</th>\n",
       "      <td>CQ3Qc14uDmuNV9fYA</td>\n",
       "      <td>10.0.90.215</td>\n",
       "      <td>64687</td>\n",
       "      <td>10.0.90.9</td>\n",
       "      <td>53</td>\n",
       "      <td>udp</td>\n",
       "      <td>19099</td>\n",
       "      <td>0 days 00:00:00.000277</td>\n",
       "      <td>_ldap._tcp.default-first-site-name._sites.litt...</td>\n",
       "      <td>1</td>\n",
       "      <td>C_INTERNET</td>\n",
       "      <td>33</td>\n",
       "      <td>SRV</td>\n",
       "      <td>0</td>\n",
       "      <td>NOERROR</td>\n",
       "      <td>T</td>\n",
       "      <td>F</td>\n",
       "      <td>T</td>\n",
       "      <td>T</td>\n",
       "      <td>0</td>\n",
       "      <td>littletigers-dc.littletigers.info</td>\n",
       "      <td>600.000000</td>\n",
       "      <td>F</td>\n",
       "    </tr>\n",
       "    <tr>\n",
       "      <th>2019-03-19 01:44:55.961795072</th>\n",
       "      <td>Cdp8py3610OKbdw9mf</td>\n",
       "      <td>10.0.90.215</td>\n",
       "      <td>59191</td>\n",
       "      <td>10.0.90.9</td>\n",
       "      <td>53</td>\n",
       "      <td>udp</td>\n",
       "      <td>10437</td>\n",
       "      <td>0 days 00:00:00.000205</td>\n",
       "      <td>_ldap._tcp.default-first-site-name._sites.doma...</td>\n",
       "      <td>1</td>\n",
       "      <td>C_INTERNET</td>\n",
       "      <td>33</td>\n",
       "      <td>SRV</td>\n",
       "      <td>0</td>\n",
       "      <td>NOERROR</td>\n",
       "      <td>T</td>\n",
       "      <td>F</td>\n",
       "      <td>T</td>\n",
       "      <td>T</td>\n",
       "      <td>0</td>\n",
       "      <td>littletigers-dc.littletigers.info</td>\n",
       "      <td>600.000000</td>\n",
       "      <td>F</td>\n",
       "    </tr>\n",
       "    <tr>\n",
       "      <th>...</th>\n",
       "      <td>...</td>\n",
       "      <td>...</td>\n",
       "      <td>...</td>\n",
       "      <td>...</td>\n",
       "      <td>...</td>\n",
       "      <td>...</td>\n",
       "      <td>...</td>\n",
       "      <td>...</td>\n",
       "      <td>...</td>\n",
       "      <td>...</td>\n",
       "      <td>...</td>\n",
       "      <td>...</td>\n",
       "      <td>...</td>\n",
       "      <td>...</td>\n",
       "      <td>...</td>\n",
       "      <td>...</td>\n",
       "      <td>...</td>\n",
       "      <td>...</td>\n",
       "      <td>...</td>\n",
       "      <td>...</td>\n",
       "      <td>...</td>\n",
       "      <td>...</td>\n",
       "      <td>...</td>\n",
       "    </tr>\n",
       "    <tr>\n",
       "      <th>2019-03-19 04:54:32.000838912</th>\n",
       "      <td>CCwik94gCNsV0e3UYb</td>\n",
       "      <td>10.0.90.215</td>\n",
       "      <td>59497</td>\n",
       "      <td>10.0.90.9</td>\n",
       "      <td>53</td>\n",
       "      <td>udp</td>\n",
       "      <td>50462</td>\n",
       "      <td>0 days 00:00:00.024172</td>\n",
       "      <td>dns.msftncsi.com</td>\n",
       "      <td>1</td>\n",
       "      <td>C_INTERNET</td>\n",
       "      <td>1</td>\n",
       "      <td>A</td>\n",
       "      <td>0</td>\n",
       "      <td>NOERROR</td>\n",
       "      <td>F</td>\n",
       "      <td>F</td>\n",
       "      <td>T</td>\n",
       "      <td>T</td>\n",
       "      <td>0</td>\n",
       "      <td>131.107.255.255</td>\n",
       "      <td>1.000000</td>\n",
       "      <td>F</td>\n",
       "    </tr>\n",
       "    <tr>\n",
       "      <th>2019-03-19 04:54:32.025595904</th>\n",
       "      <td>CgD6UY2sxrSKb1Pu9c</td>\n",
       "      <td>10.0.90.215</td>\n",
       "      <td>51962</td>\n",
       "      <td>10.0.90.9</td>\n",
       "      <td>53</td>\n",
       "      <td>udp</td>\n",
       "      <td>44250</td>\n",
       "      <td>NaT</td>\n",
       "      <td>dns.msftncsi.com</td>\n",
       "      <td>1</td>\n",
       "      <td>C_INTERNET</td>\n",
       "      <td>28</td>\n",
       "      <td>AAAA</td>\n",
       "      <td>0</td>\n",
       "      <td>NOERROR</td>\n",
       "      <td>F</td>\n",
       "      <td>F</td>\n",
       "      <td>T</td>\n",
       "      <td>F</td>\n",
       "      <td>0</td>\n",
       "      <td>NaN</td>\n",
       "      <td>NaN</td>\n",
       "      <td>T</td>\n",
       "    </tr>\n",
       "    <tr>\n",
       "      <th>2019-03-19 04:57:23.728198912</th>\n",
       "      <td>CbROLz4PESkUJZJe35</td>\n",
       "      <td>10.0.90.215</td>\n",
       "      <td>55354</td>\n",
       "      <td>10.0.90.9</td>\n",
       "      <td>53</td>\n",
       "      <td>udp</td>\n",
       "      <td>46204</td>\n",
       "      <td>NaT</td>\n",
       "      <td>_ldap._tcp.default-first-site-name._sites.litt...</td>\n",
       "      <td>1</td>\n",
       "      <td>C_INTERNET</td>\n",
       "      <td>33</td>\n",
       "      <td>SRV</td>\n",
       "      <td>3</td>\n",
       "      <td>NXDOMAIN</td>\n",
       "      <td>F</td>\n",
       "      <td>F</td>\n",
       "      <td>T</td>\n",
       "      <td>F</td>\n",
       "      <td>0</td>\n",
       "      <td>NaN</td>\n",
       "      <td>NaN</td>\n",
       "      <td>F</td>\n",
       "    </tr>\n",
       "    <tr>\n",
       "      <th>2019-03-19 04:57:23.729139968</th>\n",
       "      <td>CVC7Ob3Jle36DxNz3l</td>\n",
       "      <td>10.0.90.215</td>\n",
       "      <td>61628</td>\n",
       "      <td>10.0.90.9</td>\n",
       "      <td>53</td>\n",
       "      <td>udp</td>\n",
       "      <td>18060</td>\n",
       "      <td>NaT</td>\n",
       "      <td>_ldap._tcp.littletigers-dc.littletigers.info</td>\n",
       "      <td>1</td>\n",
       "      <td>C_INTERNET</td>\n",
       "      <td>33</td>\n",
       "      <td>SRV</td>\n",
       "      <td>3</td>\n",
       "      <td>NXDOMAIN</td>\n",
       "      <td>F</td>\n",
       "      <td>F</td>\n",
       "      <td>T</td>\n",
       "      <td>F</td>\n",
       "      <td>0</td>\n",
       "      <td>NaN</td>\n",
       "      <td>NaN</td>\n",
       "      <td>F</td>\n",
       "    </tr>\n",
       "    <tr>\n",
       "      <th>2019-03-19 04:59:56.579795968</th>\n",
       "      <td>Ck0AqQ3RQgBGlGcj22</td>\n",
       "      <td>10.0.90.215</td>\n",
       "      <td>50182</td>\n",
       "      <td>10.0.90.9</td>\n",
       "      <td>53</td>\n",
       "      <td>udp</td>\n",
       "      <td>41233</td>\n",
       "      <td>0 days 00:00:00.000267</td>\n",
       "      <td>littletigers-dc.littletigers.info</td>\n",
       "      <td>1</td>\n",
       "      <td>C_INTERNET</td>\n",
       "      <td>1</td>\n",
       "      <td>A</td>\n",
       "      <td>0</td>\n",
       "      <td>NOERROR</td>\n",
       "      <td>T</td>\n",
       "      <td>F</td>\n",
       "      <td>T</td>\n",
       "      <td>T</td>\n",
       "      <td>0</td>\n",
       "      <td>10.0.90.9</td>\n",
       "      <td>3600.000000</td>\n",
       "      <td>F</td>\n",
       "    </tr>\n",
       "  </tbody>\n",
       "</table>\n",
       "<p>85 rows × 23 columns</p>\n",
       "</div>"
      ],
      "text/plain": [
       "                                              uid    id.orig_h  id.orig_p  \\\n",
       "ts                                                                          \n",
       "2019-03-19 01:44:55.654616064  CPB1V03iUT0K033Nvd  10.0.90.215      63262   \n",
       "2019-03-19 01:44:55.657289984  ChWH8K1OKSi0mN05Rk  10.0.90.215      55332   \n",
       "2019-03-19 01:44:55.853591040  CIZgTz2rKj4HcYbW36  10.0.90.215      53248   \n",
       "2019-03-19 01:44:55.922339072   CQ3Qc14uDmuNV9fYA  10.0.90.215      64687   \n",
       "2019-03-19 01:44:55.961795072  Cdp8py3610OKbdw9mf  10.0.90.215      59191   \n",
       "...                                           ...          ...        ...   \n",
       "2019-03-19 04:54:32.000838912  CCwik94gCNsV0e3UYb  10.0.90.215      59497   \n",
       "2019-03-19 04:54:32.025595904  CgD6UY2sxrSKb1Pu9c  10.0.90.215      51962   \n",
       "2019-03-19 04:57:23.728198912  CbROLz4PESkUJZJe35  10.0.90.215      55354   \n",
       "2019-03-19 04:57:23.729139968  CVC7Ob3Jle36DxNz3l  10.0.90.215      61628   \n",
       "2019-03-19 04:59:56.579795968  Ck0AqQ3RQgBGlGcj22  10.0.90.215      50182   \n",
       "\n",
       "                               id.resp_h  id.resp_p proto  trans_id  \\\n",
       "ts                                                                    \n",
       "2019-03-19 01:44:55.654616064  10.0.90.9         53   udp     49344   \n",
       "2019-03-19 01:44:55.657289984  10.0.90.9         53   udp     43386   \n",
       "2019-03-19 01:44:55.853591040  10.0.90.9         53   udp     52321   \n",
       "2019-03-19 01:44:55.922339072  10.0.90.9         53   udp     19099   \n",
       "2019-03-19 01:44:55.961795072  10.0.90.9         53   udp     10437   \n",
       "...                                  ...        ...   ...       ...   \n",
       "2019-03-19 04:54:32.000838912  10.0.90.9         53   udp     50462   \n",
       "2019-03-19 04:54:32.025595904  10.0.90.9         53   udp     44250   \n",
       "2019-03-19 04:57:23.728198912  10.0.90.9         53   udp     46204   \n",
       "2019-03-19 04:57:23.729139968  10.0.90.9         53   udp     18060   \n",
       "2019-03-19 04:59:56.579795968  10.0.90.9         53   udp     41233   \n",
       "\n",
       "                                                 rtt  \\\n",
       "ts                                                     \n",
       "2019-03-19 01:44:55.654616064 0 days 00:00:00.000444   \n",
       "2019-03-19 01:44:55.657289984 0 days 00:00:00.000169   \n",
       "2019-03-19 01:44:55.853591040 0 days 00:00:00.000177   \n",
       "2019-03-19 01:44:55.922339072 0 days 00:00:00.000277   \n",
       "2019-03-19 01:44:55.961795072 0 days 00:00:00.000205   \n",
       "...                                              ...   \n",
       "2019-03-19 04:54:32.000838912 0 days 00:00:00.024172   \n",
       "2019-03-19 04:54:32.025595904                    NaT   \n",
       "2019-03-19 04:57:23.728198912                    NaT   \n",
       "2019-03-19 04:57:23.729139968                    NaT   \n",
       "2019-03-19 04:59:56.579795968 0 days 00:00:00.000267   \n",
       "\n",
       "                                                                           query  \\\n",
       "ts                                                                                 \n",
       "2019-03-19 01:44:55.654616064  _ldap._tcp.default-first-site-name._sites.dc._...   \n",
       "2019-03-19 01:44:55.657289984                  littletigers-dc.littletigers.info   \n",
       "2019-03-19 01:44:55.853591040  _ldap._tcp.default-first-site-name._sites.fore...   \n",
       "2019-03-19 01:44:55.922339072  _ldap._tcp.default-first-site-name._sites.litt...   \n",
       "2019-03-19 01:44:55.961795072  _ldap._tcp.default-first-site-name._sites.doma...   \n",
       "...                                                                          ...   \n",
       "2019-03-19 04:54:32.000838912                                   dns.msftncsi.com   \n",
       "2019-03-19 04:54:32.025595904                                   dns.msftncsi.com   \n",
       "2019-03-19 04:57:23.728198912  _ldap._tcp.default-first-site-name._sites.litt...   \n",
       "2019-03-19 04:57:23.729139968       _ldap._tcp.littletigers-dc.littletigers.info   \n",
       "2019-03-19 04:59:56.579795968                  littletigers-dc.littletigers.info   \n",
       "\n",
       "                               qclass qclass_name  qtype qtype_name  rcode  \\\n",
       "ts                                                                           \n",
       "2019-03-19 01:44:55.654616064       1  C_INTERNET     33        SRV      0   \n",
       "2019-03-19 01:44:55.657289984       1  C_INTERNET      1          A      0   \n",
       "2019-03-19 01:44:55.853591040       1  C_INTERNET     33        SRV      0   \n",
       "2019-03-19 01:44:55.922339072       1  C_INTERNET     33        SRV      0   \n",
       "2019-03-19 01:44:55.961795072       1  C_INTERNET     33        SRV      0   \n",
       "...                               ...         ...    ...        ...    ...   \n",
       "2019-03-19 04:54:32.000838912       1  C_INTERNET      1          A      0   \n",
       "2019-03-19 04:54:32.025595904       1  C_INTERNET     28       AAAA      0   \n",
       "2019-03-19 04:57:23.728198912       1  C_INTERNET     33        SRV      3   \n",
       "2019-03-19 04:57:23.729139968       1  C_INTERNET     33        SRV      3   \n",
       "2019-03-19 04:59:56.579795968       1  C_INTERNET      1          A      0   \n",
       "\n",
       "                              rcode_name AA TC RD RA  Z  \\\n",
       "ts                                                        \n",
       "2019-03-19 01:44:55.654616064    NOERROR  T  F  T  T  0   \n",
       "2019-03-19 01:44:55.657289984    NOERROR  T  F  T  T  0   \n",
       "2019-03-19 01:44:55.853591040    NOERROR  T  F  T  T  0   \n",
       "2019-03-19 01:44:55.922339072    NOERROR  T  F  T  T  0   \n",
       "2019-03-19 01:44:55.961795072    NOERROR  T  F  T  T  0   \n",
       "...                                  ... .. .. .. .. ..   \n",
       "2019-03-19 04:54:32.000838912    NOERROR  F  F  T  T  0   \n",
       "2019-03-19 04:54:32.025595904    NOERROR  F  F  T  F  0   \n",
       "2019-03-19 04:57:23.728198912   NXDOMAIN  F  F  T  F  0   \n",
       "2019-03-19 04:57:23.729139968   NXDOMAIN  F  F  T  F  0   \n",
       "2019-03-19 04:59:56.579795968    NOERROR  T  F  T  T  0   \n",
       "\n",
       "                                                         answers         TTLs  \\\n",
       "ts                                                                              \n",
       "2019-03-19 01:44:55.654616064  littletigers-dc.littletigers.info   600.000000   \n",
       "2019-03-19 01:44:55.657289984                          10.0.90.9  3600.000000   \n",
       "2019-03-19 01:44:55.853591040  littletigers-dc.littletigers.info   600.000000   \n",
       "2019-03-19 01:44:55.922339072  littletigers-dc.littletigers.info   600.000000   \n",
       "2019-03-19 01:44:55.961795072  littletigers-dc.littletigers.info   600.000000   \n",
       "...                                                          ...          ...   \n",
       "2019-03-19 04:54:32.000838912                    131.107.255.255     1.000000   \n",
       "2019-03-19 04:54:32.025595904                                NaN          NaN   \n",
       "2019-03-19 04:57:23.728198912                                NaN          NaN   \n",
       "2019-03-19 04:57:23.729139968                                NaN          NaN   \n",
       "2019-03-19 04:59:56.579795968                          10.0.90.9  3600.000000   \n",
       "\n",
       "                              rejected  \n",
       "ts                                      \n",
       "2019-03-19 01:44:55.654616064        F  \n",
       "2019-03-19 01:44:55.657289984        F  \n",
       "2019-03-19 01:44:55.853591040        F  \n",
       "2019-03-19 01:44:55.922339072        F  \n",
       "2019-03-19 01:44:55.961795072        F  \n",
       "...                                ...  \n",
       "2019-03-19 04:54:32.000838912        F  \n",
       "2019-03-19 04:54:32.025595904        T  \n",
       "2019-03-19 04:57:23.728198912        F  \n",
       "2019-03-19 04:57:23.729139968        F  \n",
       "2019-03-19 04:59:56.579795968        F  \n",
       "\n",
       "[85 rows x 23 columns]"
      ]
     },
     "execution_count": 48,
     "metadata": {},
     "output_type": "execute_result"
    }
   ],
   "source": [
    "from zat.log_to_dataframe import LogToDataFrame\n",
    "log_to_df = LogToDataFrame()\n",
    "zeek_df = log_to_df.create_dataframe('dns.log')\n",
    "pd.set_option('display.max_columns', None)\n",
    "zeek_df"
   ]
  },
  {
   "cell_type": "code",
   "execution_count": 49,
   "metadata": {},
   "outputs": [
    {
     "data": {
      "text/plain": [
       "WPAD                                                                           27\n",
       "LITTLETIGERS                                                                    8\n",
       "wpad                                                                            6\n",
       "dns.msftncsi.com                                                                6\n",
       "littletigers-dc.littletigers.info                                               5\n",
       "_ldap._tcp.default-first-site-name._sites.littletigers-dc.littletigers.info     4\n",
       "_ldap._tcp.littletigers-dc.littletigers.info                                    4\n",
       "wpad.littletigers.info                                                          3\n",
       "9.90.0.10.in-addr.arpa                                                          2\n",
       "wpad.localdomain                                                                2\n",
       "bobby-tiger-pc                                                                  2\n",
       "littletigers.info.littletigers.info                                             2\n",
       "littletigers.info                                                               2\n",
       "toptoptop1.online                                                               1\n",
       "crl.microsoft.com                                                               1\n",
       "isatap.localdomain                                                              1\n",
       "isatap.littletigers.info                                                        1\n",
       "bobby-tiger-pc.littletigers.info                                                1\n",
       "_ldap._tcp.default-first-site-name._sites.littletigers.info                     1\n",
       "_ldap._tcp.default-first-site-name._sites.forestdnszones.littletigers.info      1\n",
       "_ldap._tcp.default-first-site-name._sites.domaindnszones.littletigers.info      1\n",
       "_ldap._tcp.default-first-site-name._sites.dc._msdcs.littletigers.info           1\n",
       "www.msftncsi.com                                                                1\n",
       "Name: query, dtype: int64"
      ]
     },
     "execution_count": 49,
     "metadata": {},
     "output_type": "execute_result"
    }
   ],
   "source": [
    "zeek_df['query'].value_counts()"
   ]
  },
  {
   "cell_type": "code",
   "execution_count": null,
   "metadata": {},
   "outputs": [],
   "source": []
  }
 ],
 "metadata": {
  "accelerator": "TPU",
  "colab": {
   "collapsed_sections": [],
   "name": "BilgAg 2.ipynb",
   "provenance": [],
   "version": "0.3.2"
  },
  "kernelspec": {
   "display_name": "Python 3 (ipykernel)",
   "language": "python",
   "name": "python3"
  },
  "language_info": {
   "codemirror_mode": {
    "name": "ipython",
    "version": 3
   },
   "file_extension": ".py",
   "mimetype": "text/x-python",
   "name": "python",
   "nbconvert_exporter": "python",
   "pygments_lexer": "ipython3",
   "version": "3.8.10"
  }
 },
 "nbformat": 4,
 "nbformat_minor": 4
}
